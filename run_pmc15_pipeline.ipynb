{
 "cells": [
  {
   "cell_type": "markdown",
   "metadata": {},
   "source": [
    "## PMC15 Pipeline\n",
    "\n",
    "This will run the PMC15 pipeline. The steps are as follows:\n",
    "\n",
    "1. Download the list of PMC Open Access data\n",
    "2. Download and extract the data\n",
    "3. Parse all the articles and create a `_results/data/pubmed_parsed_data.jsonl` file\n",
    "\n",
    "In the `pubmed_parsed_data.jsonl` file, each line is a JSON object with the following shape:\n",
    "\n",
    "```json\n",
    "{\n",
    "    \"pmid\": \"PMID_VALUE like 11178228\",\n",
    "    \"pmc\": \"PMC_VALUE like 15015\",\n",
    "    \"location\": \"LOCATION_PATH: path to where the article is stored on disk\",\n",
    "    \"figures\": [\n",
    "        {\n",
    "            \"fig_caption\": \"FIGURE_CAPTION: the caption of the figure in the article\",\n",
    "            \"fig_id\": \"FIGURE_ID: F1, F2, etc\",\n",
    "            \"fig_label\": \"FIGURE_LABEL: Figure 1, Figure 2, etc. Where the figure is referenced in the article\",\n",
    "            \"graphic_ref\": \"GRAPHIC_REFERENCE_PATH: path to where the imape is stored on disk\",\n",
    "            \"pair_id\": \"PAIR_ID: {pmid}_{fig_id}\",\n",
    "        },\n",
    "    ]\n",
    "}\n",
    "```"
   ]
  },
  {
   "cell_type": "code",
   "execution_count": 5,
   "metadata": {},
   "outputs": [],
   "source": [
    "# this controls how many articles will be downloaded and processed. Set to `None` to process all articles in the PMCOA list\n",
    "MAX_ITEMS_TO_PROCESS = 200"
   ]
  },
  {
   "cell_type": "code",
   "execution_count": 1,
   "metadata": {},
   "outputs": [],
   "source": [
    "from pmc15_pipeline import data\n",
    "from pmc15_pipeline.utils import fs_utils"
   ]
  },
  {
   "cell_type": "code",
   "execution_count": null,
   "metadata": {},
   "outputs": [],
   "source": [
    "## https://ftp.ncbi.nlm.nih.gov/pub/pmc/\n",
    "repo_root = fs_utils.get_repo_root_path()"
   ]
  },
  {
   "cell_type": "code",
   "execution_count": 3,
   "metadata": {},
   "outputs": [
    {
     "name": "stdout",
     "output_type": "stream",
     "text": [
      "Downloading OpenAccess file list from: https://ftp.ncbi.nlm.nih.gov/pub/pmc/oa_file_list.txt to f:\\PMC_Data\\_results\\data\\pubmed_open_access_file_list.txt\n",
      "File already exists: f:\\PMC_Data\\_results\\data\\pubmed_open_access_file_list.txt\n"
     ]
    }
   ],
   "source": [
    "list_output_path = repo_root / \"_results\" / \"data\" / \"pubmed_open_access_file_list.txt\"\n",
    "\n",
    "data.download_pubmed_file_list(\n",
    "    output_file_path=list_output_path,\n",
    ")"
   ]
  },
  {
   "cell_type": "code",
   "execution_count": 6,
   "metadata": {},
   "outputs": [
    {
     "name": "stderr",
     "output_type": "stream",
     "text": [
      "                                                 \r"
     ]
    },
    {
     "name": "stdout",
     "output_type": "stream",
     "text": [
      "File: PMC13900.tar.gz already exists. Not downloading again.\n",
      "File: PMC13901.tar.gz already exists. Not downloading again.\n",
      "File: PMC13902.tar.gz already exists. Not downloading again.\n",
      "File: PMC13911.tar.gz already exists. Not downloading again.\n",
      "File: PMC13912.tar.gz already exists. Not downloading again.\n",
      "File: PMC13913.tar.gz already exists. Not downloading again.\n",
      "File: PMC13914.tar.gz already exists. Not downloading again.\n",
      "File: PMC13915.tar.gz already exists. Not downloading again.\n",
      "File: PMC13916.tar.gz already exists. Not downloading again.\n",
      "File: PMC13917.tar.gz already exists. Not downloading again.\n",
      "File: PMC13918.tar.gz already exists. Not downloading again.\n",
      "File: PMC13919.tar.gz already exists. Not downloading again.\n",
      "File: PMC13920.tar.gz already exists. Not downloading again.\n",
      "File: PMC13921.tar.gz already exists. Not downloading again.\n",
      "File: PMC13922.tar.gz already exists. Not downloading again.\n",
      "File: PMC13923.tar.gz already exists. Not downloading again.\n",
      "File: PMC13924.tar.gz already exists. Not downloading again.\n",
      "File: PMC14752.tar.gz already exists. Not downloading again.\n",
      "File: PMC15015.tar.gz already exists. Not downloading again.\n",
      "File: PMC15016.tar.gz already exists. Not downloading again.\n",
      "File: PMC15023.tar.gz already exists. Not downloading again.\n",
      "File: PMC15024.tar.gz already exists. Not downloading again.\n",
      "File: PMC15025.tar.gz already exists. Not downloading again.\n",
      "File: PMC15026.tar.gz already exists. Not downloading again.\n",
      "File: PMC15027.tar.gz already exists. Not downloading again.\n",
      "File: PMC15028.tar.gz already exists. Not downloading again.\n",
      "File: PMC16139.tar.gz already exists. Not downloading again.\n",
      "File: PMC16141.tar.gz already exists. Not downloading again.\n",
      "File: PMC16144.tar.gz already exists. Not downloading again.\n",
      "File: PMC16145.tar.gz already exists. Not downloading again.\n",
      "File: PMC17597.tar.gz already exists. Not downloading again.\n",
      "File: PMC17598.tar.gz already exists. Not downloading again.\n",
      "File: PMC17599.tar.gz already exists. Not downloading again.\n",
      "File: PMC17774.tar.gz already exists. Not downloading again.\n",
      "File: PMC17776.tar.gz already exists. Not downloading again.\n",
      "File: PMC17779.tar.gz already exists. Not downloading again.\n",
      "File: PMC17803.tar.gz already exists. Not downloading again.\n",
      "File: PMC17804.tar.gz already exists. Not downloading again.\n",
      "File: PMC17805.tar.gz already exists. Not downloading again.\n",
      "File: PMC17806.tar.gz already exists. Not downloading again.\n",
      "File: PMC17807.tar.gz already exists. Not downloading again.\n",
      "File: PMC17808.tar.gz already exists. Not downloading again.\n",
      "File: PMC17809.tar.gz already exists. Not downloading again.\n",
      "File: PMC17810.tar.gz already exists. Not downloading again.\n",
      "File: PMC17811.tar.gz already exists. Not downloading again.\n",
      "File: PMC17812.tar.gz already exists. Not downloading again.\n",
      "File: PMC17813.tar.gz already exists. Not downloading again.\n",
      "File: PMC17814.tar.gz already exists. Not downloading again.\n",
      "File: PMC17815.tar.gz already exists. Not downloading again.\n",
      "File: PMC17816.tar.gz already exists. Not downloading again.\n",
      "File: PMC17817.tar.gz already exists. Not downloading again.\n",
      "File: PMC17818.tar.gz already exists. Not downloading again.\n",
      "File: PMC17819.tar.gz already exists. Not downloading again.\n",
      "File: PMC17820.tar.gz already exists. Not downloading again.\n",
      "File: PMC17821.tar.gz already exists. Not downloading again.\n",
      "File: PMC17822.tar.gz already exists. Not downloading again.\n",
      "File: PMC17823.tar.gz already exists. Not downloading again.\n",
      "File: PMC17824.tar.gz already exists. Not downloading again.\n",
      "File: PMC17825.tar.gz already exists. Not downloading again.\n",
      "File: PMC17826.tar.gz already exists. Not downloading again.\n"
     ]
    },
    {
     "name": "stderr",
     "output_type": "stream",
     "text": [
      " 48%|████▊     | 97/200 [00:00<00:00, 294.18it/s]"
     ]
    },
    {
     "name": "stdout",
     "output_type": "stream",
     "text": [
      "File: PMC17827.tar.gz already exists. Not downloading again.\n",
      "File: PMC17828.tar.gz already exists. Not downloading again.\n",
      "File: PMC17829.tar.gz already exists. Not downloading again.\n",
      "File: PMC25774.tar.gz already exists. Not downloading again.\n",
      "File: PMC25775.tar.gz already exists. Not downloading again.\n",
      "File: PMC25776.tar.gz already exists. Not downloading again.\n",
      "File: PMC28985.tar.gz already exists. Not downloading again.\n",
      "File: PMC28986.tar.gz already exists. Not downloading again.\n",
      "File: PMC28987.tar.gz already exists. Not downloading again.\n",
      "File: PMC28988.tar.gz already exists. Not downloading again.\n",
      "File: PMC28989.tar.gz already exists. Not downloading again.\n",
      "File: PMC28990.tar.gz already exists. Not downloading again.\n",
      "File: PMC28991.tar.gz already exists. Not downloading again.\n",
      "File: PMC28992.tar.gz already exists. Not downloading again.\n",
      "File: PMC28993.tar.gz already exists. Not downloading again.\n",
      "File: PMC28994.tar.gz already exists. Not downloading again.\n",
      "File: PMC28995.tar.gz already exists. Not downloading again.\n",
      "File: PMC28996.tar.gz already exists. Not downloading again.\n",
      "File: PMC28997.tar.gz already exists. Not downloading again.\n",
      "File: PMC28998.tar.gz already exists. Not downloading again.\n",
      "File: PMC28999.tar.gz already exists. Not downloading again.\n",
      "File: PMC29000.tar.gz already exists. Not downloading again.\n",
      "File: PMC29001.tar.gz already exists. Not downloading again.\n",
      "File: PMC29002.tar.gz already exists. Not downloading again.\n",
      "File: PMC29003.tar.gz already exists. Not downloading again.\n",
      "File: PMC29004.tar.gz already exists. Not downloading again.\n",
      "File: PMC29005.tar.gz already exists. Not downloading again.\n",
      "File: PMC29006.tar.gz already exists. Not downloading again.\n",
      "File: PMC29007.tar.gz already exists. Not downloading again.\n",
      "File: PMC29008.tar.gz already exists. Not downloading again.\n",
      "File: PMC29009.tar.gz already exists. Not downloading again.\n",
      "File: PMC29010.tar.gz already exists. Not downloading again.\n",
      "File: PMC29011.tar.gz already exists. Not downloading again.\n",
      "File: PMC29012.tar.gz already exists. Not downloading again.\n",
      "File: PMC29013.tar.gz already exists. Not downloading again.\n",
      "File: PMC29014.tar.gz already exists. Not downloading again.\n",
      "File: PMC29015.tar.gz already exists. Not downloading again.\n",
      "File: PMC29016.tar.gz already exists. Not downloading again.\n",
      "File: PMC29017.tar.gz already exists. Not downloading again.\n",
      "File: PMC29018.tar.gz already exists. Not downloading again.\n"
     ]
    },
    {
     "name": "stderr",
     "output_type": "stream",
     "text": [
      " 48%|████▊     | 97/200 [00:02<00:00, 294.18it/s]"
     ]
    },
    {
     "name": "stdout",
     "output_type": "stream",
     "text": [
      "File: PMC29019.tar.gz size: 122308 bytes\n"
     ]
    },
    {
     "name": "stderr",
     "output_type": "stream",
     "text": [
      " 48%|████▊     | 97/200 [00:07<00:00, 294.18it/s]"
     ]
    },
    {
     "name": "stdout",
     "output_type": "stream",
     "text": [
      "File: PMC29020.tar.gz size: 554865 bytes\n"
     ]
    },
    {
     "name": "stderr",
     "output_type": "stream",
     "text": [
      " 48%|████▊     | 97/200 [00:11<00:00, 294.18it/s]"
     ]
    },
    {
     "name": "stdout",
     "output_type": "stream",
     "text": [
      "File: PMC29021.tar.gz size: 566226 bytes\n"
     ]
    },
    {
     "name": "stderr",
     "output_type": "stream",
     "text": [
      " 48%|████▊     | 97/200 [00:18<00:00, 294.18it/s]"
     ]
    },
    {
     "name": "stdout",
     "output_type": "stream",
     "text": [
      "File: PMC29022.tar.gz size: 361237 bytes\n"
     ]
    },
    {
     "name": "stderr",
     "output_type": "stream",
     "text": [
      " 52%|█████▏    | 104/200 [00:23<00:36,  2.64it/s]"
     ]
    },
    {
     "name": "stdout",
     "output_type": "stream",
     "text": [
      "File: PMC29023.tar.gz size: 190168 bytes\n"
     ]
    },
    {
     "name": "stderr",
     "output_type": "stream",
     "text": [
      " 52%|█████▎    | 105/200 [00:26<00:43,  2.18it/s]"
     ]
    },
    {
     "name": "stdout",
     "output_type": "stream",
     "text": [
      "File: PMC29024.tar.gz size: 184616 bytes\n"
     ]
    },
    {
     "name": "stderr",
     "output_type": "stream",
     "text": [
      " 52%|█████▎    | 105/200 [00:33<00:43,  2.18it/s]"
     ]
    },
    {
     "name": "stdout",
     "output_type": "stream",
     "text": [
      "File: PMC29025.tar.gz size: 295435 bytes\n"
     ]
    },
    {
     "name": "stderr",
     "output_type": "stream",
     "text": [
      " 52%|█████▎    | 105/200 [00:37<00:43,  2.18it/s]"
     ]
    },
    {
     "name": "stdout",
     "output_type": "stream",
     "text": [
      "File: PMC29026.tar.gz size: 155705 bytes\n"
     ]
    },
    {
     "name": "stderr",
     "output_type": "stream",
     "text": [
      " 54%|█████▍    | 108/200 [00:42<01:23,  1.10it/s]"
     ]
    },
    {
     "name": "stdout",
     "output_type": "stream",
     "text": [
      "File: PMC29027.tar.gz size: 507486 bytes\n"
     ]
    },
    {
     "name": "stderr",
     "output_type": "stream",
     "text": [
      " 55%|█████▍    | 109/200 [00:48<01:35,  1.05s/it]"
     ]
    },
    {
     "name": "stdout",
     "output_type": "stream",
     "text": [
      "File: PMC29028.tar.gz size: 183269 bytes\n"
     ]
    },
    {
     "name": "stderr",
     "output_type": "stream",
     "text": [
      " 55%|█████▍    | 109/200 [00:51<01:35,  1.05s/it]"
     ]
    },
    {
     "name": "stdout",
     "output_type": "stream",
     "text": [
      "File: PMC29029.tar.gz size: 130195 bytes\n"
     ]
    },
    {
     "name": "stderr",
     "output_type": "stream",
     "text": [
      " 56%|█████▌    | 111/200 [01:11<03:23,  2.29s/it]"
     ]
    },
    {
     "name": "stdout",
     "output_type": "stream",
     "text": [
      "File: PMC29030.tar.gz size: 123349 bytes\n"
     ]
    },
    {
     "name": "stderr",
     "output_type": "stream",
     "text": [
      " 56%|█████▌    | 112/200 [01:15<03:30,  2.39s/it]"
     ]
    },
    {
     "name": "stdout",
     "output_type": "stream",
     "text": [
      "File: PMC29031.tar.gz size: 156027 bytes\n"
     ]
    },
    {
     "name": "stderr",
     "output_type": "stream",
     "text": [
      " 56%|█████▌    | 112/200 [01:19<03:30,  2.39s/it]"
     ]
    },
    {
     "name": "stdout",
     "output_type": "stream",
     "text": [
      "File: PMC29032.tar.gz size: 529817 bytes\n"
     ]
    },
    {
     "name": "stderr",
     "output_type": "stream",
     "text": [
      " 56%|█████▌    | 112/200 [01:24<03:30,  2.39s/it]"
     ]
    },
    {
     "name": "stdout",
     "output_type": "stream",
     "text": [
      "File: PMC29033.tar.gz size: 130269 bytes\n"
     ]
    },
    {
     "name": "stderr",
     "output_type": "stream",
     "text": [
      " 56%|█████▌    | 112/200 [01:28<03:30,  2.39s/it]"
     ]
    },
    {
     "name": "stdout",
     "output_type": "stream",
     "text": [
      "File: PMC29034.tar.gz size: 973127 bytes\n"
     ]
    },
    {
     "name": "stderr",
     "output_type": "stream",
     "text": [
      " 58%|█████▊    | 116/200 [01:33<04:14,  3.03s/it]"
     ]
    },
    {
     "name": "stdout",
     "output_type": "stream",
     "text": [
      "File: PMC29035.tar.gz size: 162805 bytes\n"
     ]
    },
    {
     "name": "stderr",
     "output_type": "stream",
     "text": [
      " 58%|█████▊    | 117/200 [01:37<04:15,  3.08s/it]"
     ]
    },
    {
     "name": "stdout",
     "output_type": "stream",
     "text": [
      "File: PMC29036.tar.gz size: 76983 bytes\n"
     ]
    },
    {
     "name": "stderr",
     "output_type": "stream",
     "text": [
      " 58%|█████▊    | 117/200 [01:44<04:15,  3.08s/it]"
     ]
    },
    {
     "name": "stdout",
     "output_type": "stream",
     "text": [
      "File: PMC29037.tar.gz size: 296808 bytes\n"
     ]
    },
    {
     "name": "stderr",
     "output_type": "stream",
     "text": [
      " 58%|█████▊    | 117/200 [01:48<04:15,  3.08s/it]"
     ]
    },
    {
     "name": "stdout",
     "output_type": "stream",
     "text": [
      "File: PMC29038.tar.gz size: 155293 bytes\n"
     ]
    },
    {
     "name": "stderr",
     "output_type": "stream",
     "text": [
      " 60%|██████    | 120/200 [01:54<04:47,  3.59s/it]"
     ]
    },
    {
     "name": "stdout",
     "output_type": "stream",
     "text": [
      "File: PMC29039.tar.gz size: 241936 bytes\n"
     ]
    },
    {
     "name": "stderr",
     "output_type": "stream",
     "text": [
      " 60%|██████    | 121/200 [02:01<05:23,  4.10s/it]"
     ]
    },
    {
     "name": "stdout",
     "output_type": "stream",
     "text": [
      "File: PMC29040.tar.gz size: 104901 bytes\n"
     ]
    },
    {
     "name": "stderr",
     "output_type": "stream",
     "text": [
      " 60%|██████    | 121/200 [02:06<05:23,  4.10s/it]"
     ]
    },
    {
     "name": "stdout",
     "output_type": "stream",
     "text": [
      "File: PMC29041.tar.gz size: 254252 bytes\n"
     ]
    },
    {
     "name": "stderr",
     "output_type": "stream",
     "text": [
      " 60%|██████    | 121/200 [02:11<05:23,  4.10s/it]"
     ]
    },
    {
     "name": "stdout",
     "output_type": "stream",
     "text": [
      "File: PMC29042.tar.gz size: 87616 bytes\n"
     ]
    },
    {
     "name": "stderr",
     "output_type": "stream",
     "text": [
      " 62%|██████▏   | 124/200 [02:16<05:39,  4.46s/it]"
     ]
    },
    {
     "name": "stdout",
     "output_type": "stream",
     "text": [
      "File: PMC29043.tar.gz size: 262087 bytes\n"
     ]
    },
    {
     "name": "stderr",
     "output_type": "stream",
     "text": [
      " 62%|██████▎   | 125/200 [02:21<05:53,  4.71s/it]"
     ]
    },
    {
     "name": "stdout",
     "output_type": "stream",
     "text": [
      "File: PMC29044.tar.gz size: 355962 bytes\n"
     ]
    },
    {
     "name": "stderr",
     "output_type": "stream",
     "text": [
      " 62%|██████▎   | 125/200 [02:25<05:53,  4.71s/it]"
     ]
    },
    {
     "name": "stdout",
     "output_type": "stream",
     "text": [
      "File: PMC29045.tar.gz size: 148569 bytes\n"
     ]
    },
    {
     "name": "stderr",
     "output_type": "stream",
     "text": [
      " 62%|██████▎   | 125/200 [02:29<05:53,  4.71s/it]"
     ]
    },
    {
     "name": "stdout",
     "output_type": "stream",
     "text": [
      "File: PMC29046.tar.gz size: 353735 bytes\n"
     ]
    },
    {
     "name": "stderr",
     "output_type": "stream",
     "text": [
      " 64%|██████▍   | 128/200 [02:33<05:20,  4.45s/it]"
     ]
    },
    {
     "name": "stdout",
     "output_type": "stream",
     "text": [
      "File: PMC29047.tar.gz size: 625848 bytes\n"
     ]
    },
    {
     "name": "stderr",
     "output_type": "stream",
     "text": [
      " 64%|██████▍   | 129/200 [02:38<05:14,  4.43s/it]"
     ]
    },
    {
     "name": "stdout",
     "output_type": "stream",
     "text": [
      "File: PMC29048.tar.gz size: 99832 bytes\n"
     ]
    },
    {
     "name": "stderr",
     "output_type": "stream",
     "text": [
      " 64%|██████▍   | 129/200 [02:43<05:14,  4.43s/it]"
     ]
    },
    {
     "name": "stdout",
     "output_type": "stream",
     "text": [
      "File: PMC29049.tar.gz size: 117362 bytes\n"
     ]
    },
    {
     "name": "stderr",
     "output_type": "stream",
     "text": [
      " 66%|██████▌   | 131/200 [02:48<05:18,  4.62s/it]"
     ]
    },
    {
     "name": "stdout",
     "output_type": "stream",
     "text": [
      "File: PMC29050.tar.gz size: 100734 bytes\n"
     ]
    },
    {
     "name": "stderr",
     "output_type": "stream",
     "text": [
      " 66%|██████▌   | 132/200 [02:52<05:13,  4.61s/it]"
     ]
    },
    {
     "name": "stdout",
     "output_type": "stream",
     "text": [
      "File: PMC29051.tar.gz size: 461359 bytes\n"
     ]
    },
    {
     "name": "stderr",
     "output_type": "stream",
     "text": [
      " 66%|██████▌   | 132/200 [02:56<05:13,  4.61s/it]"
     ]
    },
    {
     "name": "stdout",
     "output_type": "stream",
     "text": [
      "File: PMC29052.tar.gz size: 325144 bytes\n"
     ]
    },
    {
     "name": "stderr",
     "output_type": "stream",
     "text": [
      " 67%|██████▋   | 134/200 [03:00<04:56,  4.50s/it]"
     ]
    },
    {
     "name": "stdout",
     "output_type": "stream",
     "text": [
      "File: PMC29053.tar.gz size: 180577 bytes\n"
     ]
    },
    {
     "name": "stderr",
     "output_type": "stream",
     "text": [
      " 68%|██████▊   | 135/200 [03:04<04:42,  4.34s/it]"
     ]
    },
    {
     "name": "stdout",
     "output_type": "stream",
     "text": [
      "File: PMC29054.tar.gz size: 230267 bytes\n"
     ]
    },
    {
     "name": "stderr",
     "output_type": "stream",
     "text": [
      " 68%|██████▊   | 136/200 [03:08<04:29,  4.22s/it]"
     ]
    },
    {
     "name": "stdout",
     "output_type": "stream",
     "text": [
      "File: PMC29055.tar.gz size: 82444 bytes\n"
     ]
    },
    {
     "name": "stderr",
     "output_type": "stream",
     "text": [
      " 68%|██████▊   | 137/200 [03:12<04:24,  4.19s/it]"
     ]
    },
    {
     "name": "stdout",
     "output_type": "stream",
     "text": [
      "File: PMC29056.tar.gz size: 259643 bytes\n"
     ]
    },
    {
     "name": "stderr",
     "output_type": "stream",
     "text": [
      " 69%|██████▉   | 138/200 [03:16<04:17,  4.16s/it]"
     ]
    },
    {
     "name": "stdout",
     "output_type": "stream",
     "text": [
      "File: PMC29057.tar.gz size: 2133649 bytes\n"
     ]
    },
    {
     "name": "stderr",
     "output_type": "stream",
     "text": [
      " 70%|██████▉   | 139/200 [03:21<04:34,  4.49s/it]"
     ]
    },
    {
     "name": "stdout",
     "output_type": "stream",
     "text": [
      "File: PMC29058.tar.gz size: 1304706 bytes\n"
     ]
    },
    {
     "name": "stderr",
     "output_type": "stream",
     "text": [
      " 70%|███████   | 140/200 [03:28<04:29,  4.50s/it]"
     ]
    },
    {
     "name": "stdout",
     "output_type": "stream",
     "text": [
      "File: PMC29059.tar.gz size: 393415 bytes\n"
     ]
    },
    {
     "name": "stderr",
     "output_type": "stream",
     "text": [
      " 70%|███████   | 141/200 [03:35<05:23,  5.48s/it]"
     ]
    },
    {
     "name": "stdout",
     "output_type": "stream",
     "text": [
      "File: PMC29061.tar.gz size: 434742 bytes\n"
     ]
    },
    {
     "name": "stderr",
     "output_type": "stream",
     "text": [
      " 71%|███████   | 142/200 [03:40<05:09,  5.34s/it]"
     ]
    },
    {
     "name": "stdout",
     "output_type": "stream",
     "text": [
      "File: PMC29062.tar.gz size: 9714661 bytes\n"
     ]
    },
    {
     "name": "stderr",
     "output_type": "stream",
     "text": [
      " 72%|███████▏  | 143/200 [03:50<05:58,  6.28s/it]"
     ]
    },
    {
     "name": "stdout",
     "output_type": "stream",
     "text": [
      "File: PMC29063.tar.gz size: 1335454 bytes\n"
     ]
    },
    {
     "name": "stderr",
     "output_type": "stream",
     "text": [
      " 72%|███████▏  | 144/200 [04:00<06:22,  6.83s/it]"
     ]
    },
    {
     "name": "stdout",
     "output_type": "stream",
     "text": [
      "File: PMC29064.tar.gz size: 449007 bytes\n"
     ]
    },
    {
     "name": "stderr",
     "output_type": "stream",
     "text": [
      " 72%|███████▎  | 145/200 [04:04<06:45,  7.38s/it]"
     ]
    },
    {
     "name": "stdout",
     "output_type": "stream",
     "text": [
      "File: PMC29065.tar.gz size: 777609 bytes\n"
     ]
    },
    {
     "name": "stderr",
     "output_type": "stream",
     "text": [
      " 73%|███████▎  | 146/200 [04:13<06:05,  6.76s/it]"
     ]
    },
    {
     "name": "stdout",
     "output_type": "stream",
     "text": [
      "File: PMC29066.tar.gz size: 746487 bytes\n"
     ]
    },
    {
     "name": "stderr",
     "output_type": "stream",
     "text": [
      " 74%|███████▎  | 147/200 [04:23<06:45,  7.65s/it]"
     ]
    },
    {
     "name": "stdout",
     "output_type": "stream",
     "text": [
      "File: PMC29067.tar.gz size: 1512957 bytes\n"
     ]
    },
    {
     "name": "stderr",
     "output_type": "stream",
     "text": [
      " 74%|███████▍  | 148/200 [04:28<06:52,  7.94s/it]"
     ]
    },
    {
     "name": "stdout",
     "output_type": "stream",
     "text": [
      "File: PMC29068.tar.gz size: 1647371 bytes\n"
     ]
    },
    {
     "name": "stderr",
     "output_type": "stream",
     "text": [
      " 74%|███████▍  | 149/200 [04:34<06:05,  7.17s/it]"
     ]
    },
    {
     "name": "stdout",
     "output_type": "stream",
     "text": [
      "File: PMC29069.tar.gz size: 3187499 bytes\n"
     ]
    },
    {
     "name": "stderr",
     "output_type": "stream",
     "text": [
      " 75%|███████▌  | 150/200 [04:40<05:48,  6.97s/it]"
     ]
    },
    {
     "name": "stdout",
     "output_type": "stream",
     "text": [
      "File: PMC29073.tar.gz size: 426761 bytes\n"
     ]
    },
    {
     "name": "stderr",
     "output_type": "stream",
     "text": [
      " 76%|███████▌  | 151/200 [04:46<04:58,  6.09s/it]"
     ]
    },
    {
     "name": "stdout",
     "output_type": "stream",
     "text": [
      "File: PMC29074.tar.gz size: 363652 bytes\n"
     ]
    },
    {
     "name": "stderr",
     "output_type": "stream",
     "text": [
      " 76%|███████▌  | 152/200 [04:51<04:57,  6.20s/it]"
     ]
    },
    {
     "name": "stdout",
     "output_type": "stream",
     "text": [
      "File: PMC29075.tar.gz size: 195170 bytes\n"
     ]
    },
    {
     "name": "stderr",
     "output_type": "stream",
     "text": [
      " 76%|███████▋  | 153/200 [04:59<04:30,  5.76s/it]"
     ]
    },
    {
     "name": "stdout",
     "output_type": "stream",
     "text": [
      "File: PMC29076.tar.gz size: 482881 bytes\n"
     ]
    },
    {
     "name": "stderr",
     "output_type": "stream",
     "text": [
      " 77%|███████▋  | 154/200 [05:05<05:01,  6.55s/it]"
     ]
    },
    {
     "name": "stdout",
     "output_type": "stream",
     "text": [
      "File: PMC29077.tar.gz size: 744234 bytes\n"
     ]
    },
    {
     "name": "stderr",
     "output_type": "stream",
     "text": [
      " 78%|███████▊  | 155/200 [05:12<04:42,  6.28s/it]"
     ]
    },
    {
     "name": "stdout",
     "output_type": "stream",
     "text": [
      "File: PMC29078.tar.gz size: 223931 bytes\n"
     ]
    },
    {
     "name": "stderr",
     "output_type": "stream",
     "text": [
      " 78%|███████▊  | 156/200 [05:16<04:50,  6.61s/it]"
     ]
    },
    {
     "name": "stdout",
     "output_type": "stream",
     "text": [
      "File: PMC29079.tar.gz size: 243844 bytes\n"
     ]
    },
    {
     "name": "stderr",
     "output_type": "stream",
     "text": [
      " 78%|███████▊  | 157/200 [05:20<04:08,  5.77s/it]"
     ]
    },
    {
     "name": "stdout",
     "output_type": "stream",
     "text": [
      "File: PMC29080.tar.gz size: 4096984 bytes\n"
     ]
    },
    {
     "name": "stderr",
     "output_type": "stream",
     "text": [
      " 79%|███████▉  | 158/200 [05:27<04:16,  6.11s/it]"
     ]
    },
    {
     "name": "stdout",
     "output_type": "stream",
     "text": [
      "File: PMC29081.tar.gz size: 1548550 bytes\n"
     ]
    },
    {
     "name": "stderr",
     "output_type": "stream",
     "text": [
      " 80%|███████▉  | 159/200 [05:32<04:00,  5.87s/it]"
     ]
    },
    {
     "name": "stdout",
     "output_type": "stream",
     "text": [
      "File: PMC29082.tar.gz size: 2124615 bytes\n"
     ]
    },
    {
     "name": "stderr",
     "output_type": "stream",
     "text": [
      " 80%|████████  | 160/200 [05:39<03:47,  5.68s/it]"
     ]
    },
    {
     "name": "stdout",
     "output_type": "stream",
     "text": [
      "File: PMC29083.tar.gz size: 795041 bytes\n"
     ]
    },
    {
     "name": "stderr",
     "output_type": "stream",
     "text": [
      " 80%|████████  | 161/200 [05:44<03:49,  5.88s/it]"
     ]
    },
    {
     "name": "stdout",
     "output_type": "stream",
     "text": [
      "File: PMC29084.tar.gz size: 2971615 bytes\n"
     ]
    },
    {
     "name": "stderr",
     "output_type": "stream",
     "text": [
      " 81%|████████  | 162/200 [05:51<03:41,  5.83s/it]"
     ]
    },
    {
     "name": "stdout",
     "output_type": "stream",
     "text": [
      "File: PMC29085.tar.gz size: 205418 bytes\n"
     ]
    },
    {
     "name": "stderr",
     "output_type": "stream",
     "text": [
      " 82%|████████▏ | 163/200 [05:55<03:33,  5.76s/it]"
     ]
    },
    {
     "name": "stdout",
     "output_type": "stream",
     "text": [
      "File: PMC29086.tar.gz size: 1143531 bytes\n"
     ]
    },
    {
     "name": "stderr",
     "output_type": "stream",
     "text": [
      " 82%|████████▏ | 164/200 [06:01<03:21,  5.60s/it]"
     ]
    },
    {
     "name": "stdout",
     "output_type": "stream",
     "text": [
      "File: PMC29087.tar.gz size: 988570 bytes\n"
     ]
    },
    {
     "name": "stderr",
     "output_type": "stream",
     "text": [
      " 82%|████████▎ | 165/200 [06:06<03:10,  5.43s/it]"
     ]
    },
    {
     "name": "stdout",
     "output_type": "stream",
     "text": [
      "File: PMC29088.tar.gz size: 2075197 bytes\n"
     ]
    },
    {
     "name": "stderr",
     "output_type": "stream",
     "text": [
      " 83%|████████▎ | 166/200 [06:11<03:02,  5.36s/it]"
     ]
    },
    {
     "name": "stdout",
     "output_type": "stream",
     "text": [
      "File: PMC29089.tar.gz size: 191702 bytes\n"
     ]
    },
    {
     "name": "stderr",
     "output_type": "stream",
     "text": [
      " 84%|████████▎ | 167/200 [06:15<02:39,  4.85s/it]"
     ]
    },
    {
     "name": "stdout",
     "output_type": "stream",
     "text": [
      "File: PMC29090.tar.gz size: 488327 bytes\n"
     ]
    },
    {
     "name": "stderr",
     "output_type": "stream",
     "text": [
      " 84%|████████▍ | 168/200 [06:20<02:38,  4.96s/it]"
     ]
    },
    {
     "name": "stdout",
     "output_type": "stream",
     "text": [
      "File: PMC29091.tar.gz size: 3514574 bytes\n"
     ]
    },
    {
     "name": "stderr",
     "output_type": "stream",
     "text": [
      " 84%|████████▍ | 169/200 [06:26<02:43,  5.27s/it]"
     ]
    },
    {
     "name": "stdout",
     "output_type": "stream",
     "text": [
      "File: PMC29092.tar.gz size: 309299 bytes\n"
     ]
    },
    {
     "name": "stderr",
     "output_type": "stream",
     "text": [
      " 85%|████████▌ | 170/200 [06:30<02:26,  4.88s/it]"
     ]
    },
    {
     "name": "stdout",
     "output_type": "stream",
     "text": [
      "File: PMC29093.tar.gz size: 114106 bytes\n"
     ]
    },
    {
     "name": "stderr",
     "output_type": "stream",
     "text": [
      " 86%|████████▌ | 171/200 [06:34<02:14,  4.63s/it]"
     ]
    },
    {
     "name": "stdout",
     "output_type": "stream",
     "text": [
      "File: PMC29094.tar.gz size: 132510 bytes\n"
     ]
    },
    {
     "name": "stderr",
     "output_type": "stream",
     "text": [
      " 86%|████████▌ | 172/200 [06:37<02:00,  4.32s/it]"
     ]
    },
    {
     "name": "stdout",
     "output_type": "stream",
     "text": [
      "File: PMC29095.tar.gz size: 205902 bytes\n"
     ]
    },
    {
     "name": "stderr",
     "output_type": "stream",
     "text": [
      " 86%|████████▋ | 173/200 [06:42<02:00,  4.46s/it]"
     ]
    },
    {
     "name": "stdout",
     "output_type": "stream",
     "text": [
      "File: PMC29096.tar.gz size: 271490 bytes\n"
     ]
    },
    {
     "name": "stderr",
     "output_type": "stream",
     "text": [
      " 87%|████████▋ | 174/200 [06:46<01:51,  4.29s/it]"
     ]
    },
    {
     "name": "stdout",
     "output_type": "stream",
     "text": [
      "File: PMC29097.tar.gz size: 651512 bytes\n"
     ]
    },
    {
     "name": "stderr",
     "output_type": "stream",
     "text": [
      " 88%|████████▊ | 175/200 [06:51<01:46,  4.27s/it]"
     ]
    },
    {
     "name": "stdout",
     "output_type": "stream",
     "text": [
      "File: PMC29098.tar.gz size: 177625 bytes\n"
     ]
    },
    {
     "name": "stderr",
     "output_type": "stream",
     "text": [
      " 88%|████████▊ | 176/200 [06:55<01:49,  4.55s/it]"
     ]
    },
    {
     "name": "stdout",
     "output_type": "stream",
     "text": [
      "File: PMC29099.tar.gz size: 948877 bytes\n"
     ]
    },
    {
     "name": "stderr",
     "output_type": "stream",
     "text": [
      " 88%|████████▊ | 177/200 [07:02<01:46,  4.62s/it]"
     ]
    },
    {
     "name": "stdout",
     "output_type": "stream",
     "text": [
      "File: PMC29100.tar.gz size: 718340 bytes\n"
     ]
    },
    {
     "name": "stderr",
     "output_type": "stream",
     "text": [
      " 89%|████████▉ | 178/200 [07:08<01:57,  5.34s/it]"
     ]
    },
    {
     "name": "stdout",
     "output_type": "stream",
     "text": [
      "File: PMC29101.tar.gz size: 2065030 bytes\n"
     ]
    },
    {
     "name": "stderr",
     "output_type": "stream",
     "text": [
      " 90%|████████▉ | 179/200 [07:13<01:53,  5.41s/it]"
     ]
    },
    {
     "name": "stdout",
     "output_type": "stream",
     "text": [
      "File: PMC29102.tar.gz size: 1746792 bytes\n"
     ]
    },
    {
     "name": "stderr",
     "output_type": "stream",
     "text": [
      " 90%|█████████ | 180/200 [07:19<01:49,  5.47s/it]"
     ]
    },
    {
     "name": "stdout",
     "output_type": "stream",
     "text": [
      "File: PMC29103.tar.gz size: 3521351 bytes\n"
     ]
    },
    {
     "name": "stderr",
     "output_type": "stream",
     "text": [
      " 90%|█████████ | 181/200 [07:26<01:48,  5.69s/it]"
     ]
    },
    {
     "name": "stdout",
     "output_type": "stream",
     "text": [
      "File: PMC29104.tar.gz size: 273214 bytes\n"
     ]
    },
    {
     "name": "stderr",
     "output_type": "stream",
     "text": [
      " 91%|█████████ | 182/200 [07:31<01:46,  5.90s/it]"
     ]
    },
    {
     "name": "stdout",
     "output_type": "stream",
     "text": [
      "File: PMC29105.tar.gz size: 163207 bytes\n"
     ]
    },
    {
     "name": "stderr",
     "output_type": "stream",
     "text": [
      " 92%|█████████▏| 183/200 [07:35<01:31,  5.37s/it]"
     ]
    },
    {
     "name": "stdout",
     "output_type": "stream",
     "text": [
      "File: PMC29106.tar.gz size: 147069 bytes\n"
     ]
    },
    {
     "name": "stderr",
     "output_type": "stream",
     "text": [
      " 92%|█████████▏| 184/200 [07:40<01:21,  5.10s/it]"
     ]
    },
    {
     "name": "stdout",
     "output_type": "stream",
     "text": [
      "File: PMC29715.tar.gz size: 354197 bytes\n"
     ]
    },
    {
     "name": "stderr",
     "output_type": "stream",
     "text": [
      " 92%|█████████▎| 185/200 [07:46<01:12,  4.82s/it]"
     ]
    },
    {
     "name": "stdout",
     "output_type": "stream",
     "text": [
      "File: PMC29831.tar.gz size: 333570 bytes\n"
     ]
    },
    {
     "name": "stderr",
     "output_type": "stream",
     "text": [
      " 93%|█████████▎| 186/200 [07:53<01:11,  5.13s/it]"
     ]
    },
    {
     "name": "stdout",
     "output_type": "stream",
     "text": [
      "File: PMC30703.tar.gz size: 824064 bytes\n"
     ]
    },
    {
     "name": "stderr",
     "output_type": "stream",
     "text": [
      " 94%|█████████▎| 187/200 [07:58<01:18,  6.02s/it]"
     ]
    },
    {
     "name": "stdout",
     "output_type": "stream",
     "text": [
      "File: PMC30704.tar.gz size: 520891 bytes\n"
     ]
    },
    {
     "name": "stderr",
     "output_type": "stream",
     "text": [
      " 94%|█████████▍| 188/200 [08:04<01:06,  5.53s/it]"
     ]
    },
    {
     "name": "stdout",
     "output_type": "stream",
     "text": [
      "File: PMC30705.tar.gz size: 577427 bytes\n"
     ]
    },
    {
     "name": "stderr",
     "output_type": "stream",
     "text": [
      " 94%|█████████▍| 189/200 [08:12<01:05,  5.95s/it]"
     ]
    },
    {
     "name": "stdout",
     "output_type": "stream",
     "text": [
      "File: PMC30706.tar.gz size: 1604972 bytes\n"
     ]
    },
    {
     "name": "stderr",
     "output_type": "stream",
     "text": [
      " 95%|█████████▌| 190/200 [08:18<01:05,  6.59s/it]"
     ]
    },
    {
     "name": "stdout",
     "output_type": "stream",
     "text": [
      "File: PMC30707.tar.gz size: 191532 bytes\n"
     ]
    },
    {
     "name": "stderr",
     "output_type": "stream",
     "text": [
      " 96%|█████████▌| 191/200 [08:22<00:55,  6.12s/it]"
     ]
    },
    {
     "name": "stdout",
     "output_type": "stream",
     "text": [
      "File: PMC30708.tar.gz size: 592037 bytes\n"
     ]
    },
    {
     "name": "stderr",
     "output_type": "stream",
     "text": [
      " 96%|█████████▌| 192/200 [08:27<00:45,  5.65s/it]"
     ]
    },
    {
     "name": "stdout",
     "output_type": "stream",
     "text": [
      "File: PMC30709.tar.gz size: 870054 bytes\n"
     ]
    },
    {
     "name": "stderr",
     "output_type": "stream",
     "text": [
      " 96%|█████████▋| 193/200 [08:34<00:42,  6.03s/it]"
     ]
    },
    {
     "name": "stdout",
     "output_type": "stream",
     "text": [
      "File: PMC30710.tar.gz size: 187712 bytes\n"
     ]
    },
    {
     "name": "stderr",
     "output_type": "stream",
     "text": [
      " 97%|█████████▋| 194/200 [08:37<00:31,  5.29s/it]"
     ]
    },
    {
     "name": "stdout",
     "output_type": "stream",
     "text": [
      "File: PMC30711.tar.gz size: 468206 bytes\n"
     ]
    },
    {
     "name": "stderr",
     "output_type": "stream",
     "text": [
      " 98%|█████████▊| 195/200 [08:41<00:24,  4.98s/it]"
     ]
    },
    {
     "name": "stdout",
     "output_type": "stream",
     "text": [
      "File: PMC30712.tar.gz size: 915004 bytes\n"
     ]
    },
    {
     "name": "stderr",
     "output_type": "stream",
     "text": [
      " 98%|█████████▊| 196/200 [08:46<00:20,  5.01s/it]"
     ]
    },
    {
     "name": "stdout",
     "output_type": "stream",
     "text": [
      "File: PMC30713.tar.gz size: 202743 bytes\n"
     ]
    },
    {
     "name": "stderr",
     "output_type": "stream",
     "text": [
      " 98%|█████████▊| 197/200 [08:50<00:13,  4.55s/it]"
     ]
    },
    {
     "name": "stdout",
     "output_type": "stream",
     "text": [
      "File: PMC30714.tar.gz size: 958245 bytes\n"
     ]
    },
    {
     "name": "stderr",
     "output_type": "stream",
     "text": [
      " 99%|█████████▉| 198/200 [08:56<00:10,  5.15s/it]"
     ]
    },
    {
     "name": "stdout",
     "output_type": "stream",
     "text": [
      "File: PMC30715.tar.gz size: 206280 bytes\n"
     ]
    },
    {
     "name": "stderr",
     "output_type": "stream",
     "text": [
      "100%|█████████▉| 199/200 [09:01<00:04,  4.83s/it]"
     ]
    },
    {
     "name": "stdout",
     "output_type": "stream",
     "text": [
      "File: PMC30938.tar.gz size: 94144 bytes\n"
     ]
    },
    {
     "name": "stderr",
     "output_type": "stream",
     "text": [
      "100%|██████████| 200/200 [09:03<00:00,  2.72s/it]\n"
     ]
    },
    {
     "name": "stdout",
     "output_type": "stream",
     "text": [
      "Skipped 0 files.\n"
     ]
    }
   ],
   "source": [
    "# remove the subset_size argument to download all files\n",
    "downloaded_articles_output_path = repo_root / \"_results\" / \"data\" / \"pubmed_open_access_files_compressed\"\n",
    "\n",
    "data.download_pubmed_files_from_list(\n",
    "    file_list_path=list_output_path,\n",
    "    output_folder_path=downloaded_articles_output_path,\n",
    "    subset_size=MAX_ITEMS_TO_PROCESS,\n",
    ")"
   ]
  },
  {
   "cell_type": "code",
   "execution_count": 7,
   "metadata": {},
   "outputs": [
    {
     "name": "stdout",
     "output_type": "stream",
     "text": [
      "Found 200 files that match *.tar.gz in f:\\PMC_Data\\_results\\data\\pubmed_open_access_files_compressed\n"
     ]
    },
    {
     "name": "stderr",
     "output_type": "stream",
     "text": [
      "100%|██████████| 200/200 [00:05<00:00, 38.27it/s]"
     ]
    },
    {
     "name": "stdout",
     "output_type": "stream",
     "text": [
      "Finished extracting 200 files\n"
     ]
    },
    {
     "name": "stderr",
     "output_type": "stream",
     "text": [
      "\n"
     ]
    }
   ],
   "source": [
    "decompressed_folder_path = repo_root / \"_results\" / \"data\" / \"pubmed_open_access_files\"\n",
    "\n",
    "data.decompress_pubmed_files(\n",
    "    input_folder_path=downloaded_articles_output_path,\n",
    "    output_folder_path=decompressed_folder_path,\n",
    ")"
   ]
  },
  {
   "cell_type": "code",
   "execution_count": 8,
   "metadata": {},
   "outputs": [
    {
     "name": "stdout",
     "output_type": "stream",
     "text": [
      "f:\\PMC_Data\\_results\\data\\pubmed_open_access_files\\PMC13900\\BCR-3-1-055.nxml\n",
      "starting...\n",
      "parsed f:\\PMC_Data\\_results\\data\\pubmed_open_access_files\\PMC13900\\BCR-3-1-055.nxml\n",
      "no output\n",
      "f:\\PMC_Data\\_results\\data\\pubmed_open_access_files\\PMC13901\\BCR-3-1-061.nxml\n",
      "starting...\n",
      "parsed f:\\PMC_Data\\_results\\data\\pubmed_open_access_files\\PMC13901\\BCR-3-1-061.nxml\n",
      "f:\\PMC_Data\\_results\\data\\pubmed_open_access_files\\PMC13902\\BCR-3-1-066.nxml\n",
      "starting...\n",
      "parsed f:\\PMC_Data\\_results\\data\\pubmed_open_access_files\\PMC13902\\BCR-3-1-066.nxml\n",
      "f:\\PMC_Data\\_results\\data\\pubmed_open_access_files\\PMC13911\\bcr-2-1-059.nxml\n",
      "starting...\n",
      "parsed f:\\PMC_Data\\_results\\data\\pubmed_open_access_files\\PMC13911\\bcr-2-1-059.nxml\n",
      "no output\n",
      "f:\\PMC_Data\\_results\\data\\pubmed_open_access_files\\PMC13912\\bcr-2-1-064.nxml\n",
      "starting...\n",
      "parsed f:\\PMC_Data\\_results\\data\\pubmed_open_access_files\\PMC13912\\bcr-2-1-064.nxml\n",
      "f:\\PMC_Data\\_results\\data\\pubmed_open_access_files\\PMC13913\\bcr-1-1-073.nxml\n",
      "starting...\n",
      "parsed f:\\PMC_Data\\_results\\data\\pubmed_open_access_files\\PMC13913\\bcr-1-1-073.nxml\n",
      "f:\\PMC_Data\\_results\\data\\pubmed_open_access_files\\PMC13914\\bcr-1-1-081.nxml\n",
      "starting...\n",
      "parsed f:\\PMC_Data\\_results\\data\\pubmed_open_access_files\\PMC13914\\bcr-1-1-081.nxml\n",
      "f:\\PMC_Data\\_results\\data\\pubmed_open_access_files\\PMC13915\\bcr-1-1-088.nxml\n",
      "starting...\n",
      "parsed f:\\PMC_Data\\_results\\data\\pubmed_open_access_files\\PMC13915\\bcr-1-1-088.nxml\n",
      "f:\\PMC_Data\\_results\\data\\pubmed_open_access_files\\PMC13916\\bcr-2-2-139.nxml\n",
      "starting...\n",
      "parsed f:\\PMC_Data\\_results\\data\\pubmed_open_access_files\\PMC13916\\bcr-2-2-139.nxml\n",
      "f:\\PMC_Data\\_results\\data\\pubmed_open_access_files\\PMC13917\\bcr-2-3-222.nxml\n",
      "starting...\n",
      "parsed f:\\PMC_Data\\_results\\data\\pubmed_open_access_files\\PMC13917\\bcr-2-3-222.nxml\n",
      "f:\\PMC_Data\\_results\\data\\pubmed_open_access_files\\PMC13918\\bcr-2-4-307.nxml\n",
      "starting...\n",
      "parsed f:\\PMC_Data\\_results\\data\\pubmed_open_access_files\\PMC13918\\bcr-2-4-307.nxml\n",
      "no output\n",
      "f:\\PMC_Data\\_results\\data\\pubmed_open_access_files\\PMC13919\\bcr-2-4-311.nxml\n",
      "starting...\n",
      "parsed f:\\PMC_Data\\_results\\data\\pubmed_open_access_files\\PMC13919\\bcr-2-4-311.nxml\n",
      "f:\\PMC_Data\\_results\\data\\pubmed_open_access_files\\PMC13920\\bcr-2-5-378.nxml\n",
      "starting...\n",
      "parsed f:\\PMC_Data\\_results\\data\\pubmed_open_access_files\\PMC13920\\bcr-2-5-378.nxml\n",
      "no output\n",
      "f:\\PMC_Data\\_results\\data\\pubmed_open_access_files\\PMC13921\\bcr-2-6-438.nxml\n",
      "starting...\n",
      "parsed f:\\PMC_Data\\_results\\data\\pubmed_open_access_files\\PMC13921\\bcr-2-6-438.nxml\n",
      "no output\n",
      "f:\\PMC_Data\\_results\\data\\pubmed_open_access_files\\PMC13922\\bcr-2-6-444.nxml\n",
      "starting...\n",
      "parsed f:\\PMC_Data\\_results\\data\\pubmed_open_access_files\\PMC13922\\bcr-2-6-444.nxml\n",
      "f:\\PMC_Data\\_results\\data\\pubmed_open_access_files\\PMC13923\\BCR-3-2-122.nxml\n",
      "starting...\n",
      "parsed f:\\PMC_Data\\_results\\data\\pubmed_open_access_files\\PMC13923\\BCR-3-2-122.nxml\n",
      "f:\\PMC_Data\\_results\\data\\pubmed_open_access_files\\PMC13924\\BCR-3-2-134.nxml\n",
      "starting...\n",
      "parsed f:\\PMC_Data\\_results\\data\\pubmed_open_access_files\\PMC13924\\BCR-3-2-134.nxml\n",
      "no output\n",
      "f:\\PMC_Data\\_results\\data\\pubmed_open_access_files\\PMC14752\\mk000001.nxml\n",
      "starting...\n",
      "parsed f:\\PMC_Data\\_results\\data\\pubmed_open_access_files\\PMC14752\\mk000001.nxml\n",
      "f:\\PMC_Data\\_results\\data\\pubmed_open_access_files\\PMC15015\\gb-2000-1-2-research0003.nxml\n",
      "starting...\n",
      "parsed f:\\PMC_Data\\_results\\data\\pubmed_open_access_files\\PMC15015\\gb-2000-1-2-research0003.nxml\n",
      "f:\\PMC_Data\\_results\\data\\pubmed_open_access_files\\PMC15016\\gb-2000-1-2-research0004.nxml\n",
      "starting...\n",
      "parsed f:\\PMC_Data\\_results\\data\\pubmed_open_access_files\\PMC15016\\gb-2000-1-2-research0004.nxml\n",
      "f:\\PMC_Data\\_results\\data\\pubmed_open_access_files\\PMC15023\\gb-2000-1-3-research0005.nxml\n",
      "starting...\n",
      "parsed f:\\PMC_Data\\_results\\data\\pubmed_open_access_files\\PMC15023\\gb-2000-1-3-research0005.nxml\n",
      "f:\\PMC_Data\\_results\\data\\pubmed_open_access_files\\PMC15024\\gb-2000-1-3-research0006.nxml\n",
      "starting...\n",
      "parsed f:\\PMC_Data\\_results\\data\\pubmed_open_access_files\\PMC15024\\gb-2000-1-3-research0006.nxml\n",
      "f:\\PMC_Data\\_results\\data\\pubmed_open_access_files\\PMC15025\\gb-2000-1-4-research0007.nxml\n",
      "starting...\n",
      "parsed f:\\PMC_Data\\_results\\data\\pubmed_open_access_files\\PMC15025\\gb-2000-1-4-research0007.nxml\n",
      "f:\\PMC_Data\\_results\\data\\pubmed_open_access_files\\PMC15026\\gb-2000-1-4-research0008.nxml\n",
      "starting...\n",
      "parsed f:\\PMC_Data\\_results\\data\\pubmed_open_access_files\\PMC15026\\gb-2000-1-4-research0008.nxml\n",
      "f:\\PMC_Data\\_results\\data\\pubmed_open_access_files\\PMC15027\\gb-2000-1-5-research0009.nxml\n",
      "starting...\n",
      "parsed f:\\PMC_Data\\_results\\data\\pubmed_open_access_files\\PMC15027\\gb-2000-1-5-research0009.nxml\n",
      "f:\\PMC_Data\\_results\\data\\pubmed_open_access_files\\PMC15028\\gb-2000-1-5-research0010.nxml\n",
      "starting...\n",
      "parsed f:\\PMC_Data\\_results\\data\\pubmed_open_access_files\\PMC15028\\gb-2000-1-5-research0010.nxml\n",
      "f:\\PMC_Data\\_results\\data\\pubmed_open_access_files\\PMC16139\\gb-2000-1-6-research0011.nxml\n",
      "starting...\n",
      "parsed f:\\PMC_Data\\_results\\data\\pubmed_open_access_files\\PMC16139\\gb-2000-1-6-research0011.nxml\n",
      "f:\\PMC_Data\\_results\\data\\pubmed_open_access_files\\PMC16141\\gb-2000-1-6-research0012.nxml\n",
      "starting...\n",
      "parsed f:\\PMC_Data\\_results\\data\\pubmed_open_access_files\\PMC16141\\gb-2000-1-6-research0012.nxml\n",
      "f:\\PMC_Data\\_results\\data\\pubmed_open_access_files\\PMC16144\\gb-2000-1-6-research0013.nxml\n",
      "starting...\n",
      "parsed f:\\PMC_Data\\_results\\data\\pubmed_open_access_files\\PMC16144\\gb-2000-1-6-research0013.nxml\n",
      "f:\\PMC_Data\\_results\\data\\pubmed_open_access_files\\PMC16145\\gb-2000-1-6-research0014.nxml\n",
      "starting...\n",
      "parsed f:\\PMC_Data\\_results\\data\\pubmed_open_access_files\\PMC16145\\gb-2000-1-6-research0014.nxml\n",
      "f:\\PMC_Data\\_results\\data\\pubmed_open_access_files\\PMC17597\\gb-2000-2-1-research0001.nxml\n",
      "starting...\n",
      "parsed f:\\PMC_Data\\_results\\data\\pubmed_open_access_files\\PMC17597\\gb-2000-2-1-research0001.nxml\n",
      "f:\\PMC_Data\\_results\\data\\pubmed_open_access_files\\PMC17598\\gb-2000-2-1-research0002.nxml\n",
      "starting...\n",
      "parsed f:\\PMC_Data\\_results\\data\\pubmed_open_access_files\\PMC17598\\gb-2000-2-1-research0002.nxml\n",
      "f:\\PMC_Data\\_results\\data\\pubmed_open_access_files\\PMC17599\\gb-2001-2-1-research0003.nxml\n",
      "starting...\n",
      "parsed f:\\PMC_Data\\_results\\data\\pubmed_open_access_files\\PMC17599\\gb-2001-2-1-research0003.nxml\n",
      "f:\\PMC_Data\\_results\\data\\pubmed_open_access_files\\PMC17774\\ar-1-1-063.nxml\n",
      "starting...\n",
      "parsed f:\\PMC_Data\\_results\\data\\pubmed_open_access_files\\PMC17774\\ar-1-1-063.nxml\n",
      "f:\\PMC_Data\\_results\\data\\pubmed_open_access_files\\PMC17776\\ar-1-1-071.nxml\n",
      "starting...\n",
      "parsed f:\\PMC_Data\\_results\\data\\pubmed_open_access_files\\PMC17776\\ar-1-1-071.nxml\n",
      "f:\\PMC_Data\\_results\\data\\pubmed_open_access_files\\PMC17779\\ar-1-1-081.nxml\n",
      "starting...\n",
      "parsed f:\\PMC_Data\\_results\\data\\pubmed_open_access_files\\PMC17779\\ar-1-1-081.nxml\n",
      "f:\\PMC_Data\\_results\\data\\pubmed_open_access_files\\PMC17803\\ar-2-1-050.nxml\n",
      "starting...\n",
      "parsed f:\\PMC_Data\\_results\\data\\pubmed_open_access_files\\PMC17803\\ar-2-1-050.nxml\n",
      "f:\\PMC_Data\\_results\\data\\pubmed_open_access_files\\PMC17804\\ar-2-1-059.nxml\n",
      "starting...\n",
      "parsed f:\\PMC_Data\\_results\\data\\pubmed_open_access_files\\PMC17804\\ar-2-1-059.nxml\n",
      "f:\\PMC_Data\\_results\\data\\pubmed_open_access_files\\PMC17805\\ar-2-1-065.nxml\n",
      "starting...\n",
      "parsed f:\\PMC_Data\\_results\\data\\pubmed_open_access_files\\PMC17805\\ar-2-1-065.nxml\n",
      "f:\\PMC_Data\\_results\\data\\pubmed_open_access_files\\PMC17806\\ar-2-1-075.nxml\n",
      "starting...\n",
      "parsed f:\\PMC_Data\\_results\\data\\pubmed_open_access_files\\PMC17806\\ar-2-1-075.nxml\n",
      "f:\\PMC_Data\\_results\\data\\pubmed_open_access_files\\PMC17807\\ar-2-2-142.nxml\n",
      "starting...\n",
      "parsed f:\\PMC_Data\\_results\\data\\pubmed_open_access_files\\PMC17807\\ar-2-2-142.nxml\n",
      "f:\\PMC_Data\\_results\\data\\pubmed_open_access_files\\PMC17808\\ar-2-2-145.nxml\n",
      "starting...\n",
      "parsed f:\\PMC_Data\\_results\\data\\pubmed_open_access_files\\PMC17808\\ar-2-2-145.nxml\n",
      "f:\\PMC_Data\\_results\\data\\pubmed_open_access_files\\PMC17809\\ar-2-2-154.nxml\n",
      "starting...\n",
      "parsed f:\\PMC_Data\\_results\\data\\pubmed_open_access_files\\PMC17809\\ar-2-2-154.nxml\n",
      "f:\\PMC_Data\\_results\\data\\pubmed_open_access_files\\PMC17810\\ar-2-3-229.nxml\n",
      "starting...\n",
      "parsed f:\\PMC_Data\\_results\\data\\pubmed_open_access_files\\PMC17810\\ar-2-3-229.nxml\n",
      "f:\\PMC_Data\\_results\\data\\pubmed_open_access_files\\PMC17811\\ar-2-3-236.nxml\n",
      "starting...\n",
      "parsed f:\\PMC_Data\\_results\\data\\pubmed_open_access_files\\PMC17811\\ar-2-3-236.nxml\n",
      "no output\n",
      "f:\\PMC_Data\\_results\\data\\pubmed_open_access_files\\PMC17812\\ar-2-4-293.nxml\n",
      "starting...\n",
      "parsed f:\\PMC_Data\\_results\\data\\pubmed_open_access_files\\PMC17812\\ar-2-4-293.nxml\n",
      "f:\\PMC_Data\\_results\\data\\pubmed_open_access_files\\PMC17813\\ar-2-4-303.nxml\n",
      "starting...\n",
      "parsed f:\\PMC_Data\\_results\\data\\pubmed_open_access_files\\PMC17813\\ar-2-4-303.nxml\n",
      "f:\\PMC_Data\\_results\\data\\pubmed_open_access_files\\PMC17814\\ar-2-4-315.nxml\n",
      "starting...\n",
      "parsed f:\\PMC_Data\\_results\\data\\pubmed_open_access_files\\PMC17814\\ar-2-4-315.nxml\n",
      "f:\\PMC_Data\\_results\\data\\pubmed_open_access_files\\PMC17815\\ar-2-4-327.nxml\n",
      "starting...\n",
      "parsed f:\\PMC_Data\\_results\\data\\pubmed_open_access_files\\PMC17815\\ar-2-4-327.nxml\n",
      "no output\n",
      "f:\\PMC_Data\\_results\\data\\pubmed_open_access_files\\PMC17816\\ar-2-5-399.nxml\n",
      "starting...\n",
      "parsed f:\\PMC_Data\\_results\\data\\pubmed_open_access_files\\PMC17816\\ar-2-5-399.nxml\n",
      "f:\\PMC_Data\\_results\\data\\pubmed_open_access_files\\PMC17817\\ar-2-5-407.nxml\n",
      "starting...\n",
      "parsed f:\\PMC_Data\\_results\\data\\pubmed_open_access_files\\PMC17817\\ar-2-5-407.nxml\n",
      "f:\\PMC_Data\\_results\\data\\pubmed_open_access_files\\PMC17818\\ar-2-5-415.nxml\n",
      "starting...\n",
      "parsed f:\\PMC_Data\\_results\\data\\pubmed_open_access_files\\PMC17818\\ar-2-5-415.nxml\n",
      "f:\\PMC_Data\\_results\\data\\pubmed_open_access_files\\PMC17819\\ar-2-5-424.nxml\n",
      "starting...\n",
      "parsed f:\\PMC_Data\\_results\\data\\pubmed_open_access_files\\PMC17819\\ar-2-5-424.nxml\n",
      "f:\\PMC_Data\\_results\\data\\pubmed_open_access_files\\PMC17820\\ar-2-6-477.nxml\n",
      "starting...\n",
      "parsed f:\\PMC_Data\\_results\\data\\pubmed_open_access_files\\PMC17820\\ar-2-6-477.nxml\n",
      "f:\\PMC_Data\\_results\\data\\pubmed_open_access_files\\PMC17821\\ar-2-6-489.nxml\n",
      "starting...\n",
      "parsed f:\\PMC_Data\\_results\\data\\pubmed_open_access_files\\PMC17821\\ar-2-6-489.nxml\n",
      "f:\\PMC_Data\\_results\\data\\pubmed_open_access_files\\PMC17822\\ar-2-6-504.nxml\n",
      "starting...\n",
      "parsed f:\\PMC_Data\\_results\\data\\pubmed_open_access_files\\PMC17822\\ar-2-6-504.nxml\n",
      "f:\\PMC_Data\\_results\\data\\pubmed_open_access_files\\PMC17823\\AR-3-1-041.nxml\n",
      "starting...\n",
      "parsed f:\\PMC_Data\\_results\\data\\pubmed_open_access_files\\PMC17823\\AR-3-1-041.nxml\n",
      "f:\\PMC_Data\\_results\\data\\pubmed_open_access_files\\PMC17824\\AR-3-1-048.nxml\n",
      "starting...\n",
      "parsed f:\\PMC_Data\\_results\\data\\pubmed_open_access_files\\PMC17824\\AR-3-1-048.nxml\n",
      "f:\\PMC_Data\\_results\\data\\pubmed_open_access_files\\PMC17825\\AR-3-1-054.nxml\n",
      "starting...\n",
      "parsed f:\\PMC_Data\\_results\\data\\pubmed_open_access_files\\PMC17825\\AR-3-1-054.nxml\n",
      "f:\\PMC_Data\\_results\\data\\pubmed_open_access_files\\PMC17826\\AR-3-1-065.nxml\n",
      "starting...\n",
      "parsed f:\\PMC_Data\\_results\\data\\pubmed_open_access_files\\PMC17826\\AR-3-1-065.nxml\n",
      "f:\\PMC_Data\\_results\\data\\pubmed_open_access_files\\PMC17827\\AR-3-1-072.nxml\n",
      "starting...\n",
      "parsed f:\\PMC_Data\\_results\\data\\pubmed_open_access_files\\PMC17827\\AR-3-1-072.nxml\n",
      "f:\\PMC_Data\\_results\\data\\pubmed_open_access_files\\PMC17828\\ar-3-2-118.nxml\n",
      "starting...\n",
      "parsed f:\\PMC_Data\\_results\\data\\pubmed_open_access_files\\PMC17828\\ar-3-2-118.nxml\n",
      "f:\\PMC_Data\\_results\\data\\pubmed_open_access_files\\PMC17829\\ar-3-2-127.nxml\n",
      "starting...\n",
      "parsed f:\\PMC_Data\\_results\\data\\pubmed_open_access_files\\PMC17829\\ar-3-2-127.nxml\n",
      "f:\\PMC_Data\\_results\\data\\pubmed_open_access_files\\PMC25774\\gb-2001-2-2-research0004.nxml\n",
      "starting...\n",
      "parsed f:\\PMC_Data\\_results\\data\\pubmed_open_access_files\\PMC25774\\gb-2001-2-2-research0004.nxml\n",
      "f:\\PMC_Data\\_results\\data\\pubmed_open_access_files\\PMC25775\\gb-2001-2-2-research0005.nxml\n",
      "starting...\n",
      "parsed f:\\PMC_Data\\_results\\data\\pubmed_open_access_files\\PMC25775\\gb-2001-2-2-research0005.nxml\n",
      "f:\\PMC_Data\\_results\\data\\pubmed_open_access_files\\PMC25776\\gb-2001-2-2-research0006.nxml\n",
      "starting...\n",
      "parsed f:\\PMC_Data\\_results\\data\\pubmed_open_access_files\\PMC25776\\gb-2001-2-2-research0006.nxml\n",
      "f:\\PMC_Data\\_results\\data\\pubmed_open_access_files\\PMC28985\\cc-1-1-015.nxml\n",
      "starting...\n",
      "parsed f:\\PMC_Data\\_results\\data\\pubmed_open_access_files\\PMC28985\\cc-1-1-015.nxml\n",
      "f:\\PMC_Data\\_results\\data\\pubmed_open_access_files\\PMC28986\\cc-1-1-025.nxml\n",
      "starting...\n",
      "parsed f:\\PMC_Data\\_results\\data\\pubmed_open_access_files\\PMC28986\\cc-1-1-025.nxml\n",
      "f:\\PMC_Data\\_results\\data\\pubmed_open_access_files\\PMC28987\\cc-1-1-041.nxml\n",
      "starting...\n",
      "parsed f:\\PMC_Data\\_results\\data\\pubmed_open_access_files\\PMC28987\\cc-1-1-041.nxml\n",
      "f:\\PMC_Data\\_results\\data\\pubmed_open_access_files\\PMC28988\\cc-1-1-045.nxml\n",
      "starting...\n",
      "parsed f:\\PMC_Data\\_results\\data\\pubmed_open_access_files\\PMC28988\\cc-1-1-045.nxml\n",
      "f:\\PMC_Data\\_results\\data\\pubmed_open_access_files\\PMC28989\\cc-1-2-065.nxml\n",
      "starting...\n",
      "parsed f:\\PMC_Data\\_results\\data\\pubmed_open_access_files\\PMC28989\\cc-1-2-065.nxml\n",
      "f:\\PMC_Data\\_results\\data\\pubmed_open_access_files\\PMC28990\\cc-1-2-071.nxml\n",
      "starting...\n",
      "parsed f:\\PMC_Data\\_results\\data\\pubmed_open_access_files\\PMC28990\\cc-1-2-071.nxml\n",
      "f:\\PMC_Data\\_results\\data\\pubmed_open_access_files\\PMC28991\\cc-1-2-075.nxml\n",
      "starting...\n",
      "parsed f:\\PMC_Data\\_results\\data\\pubmed_open_access_files\\PMC28991\\cc-1-2-075.nxml\n",
      "no output\n",
      "f:\\PMC_Data\\_results\\data\\pubmed_open_access_files\\PMC28992\\cc-1-2-079.nxml\n",
      "starting...\n",
      "parsed f:\\PMC_Data\\_results\\data\\pubmed_open_access_files\\PMC28992\\cc-1-2-079.nxml\n",
      "no output\n",
      "f:\\PMC_Data\\_results\\data\\pubmed_open_access_files\\PMC28993\\cc-1-3-095.nxml\n",
      "starting...\n",
      "parsed f:\\PMC_Data\\_results\\data\\pubmed_open_access_files\\PMC28993\\cc-1-3-095.nxml\n",
      "no output\n",
      "f:\\PMC_Data\\_results\\data\\pubmed_open_access_files\\PMC28994\\cc-1-3-101.nxml\n",
      "starting...\n",
      "parsed f:\\PMC_Data\\_results\\data\\pubmed_open_access_files\\PMC28994\\cc-1-3-101.nxml\n",
      "no output\n",
      "f:\\PMC_Data\\_results\\data\\pubmed_open_access_files\\PMC28995\\cc-1-3-105.nxml\n",
      "starting...\n",
      "parsed f:\\PMC_Data\\_results\\data\\pubmed_open_access_files\\PMC28995\\cc-1-3-105.nxml\n",
      "f:\\PMC_Data\\_results\\data\\pubmed_open_access_files\\PMC28996\\cc-1-3-111.nxml\n",
      "starting...\n",
      "parsed f:\\PMC_Data\\_results\\data\\pubmed_open_access_files\\PMC28996\\cc-1-3-111.nxml\n",
      "f:\\PMC_Data\\_results\\data\\pubmed_open_access_files\\PMC28997\\cc-2-1-019.nxml\n",
      "starting...\n",
      "parsed f:\\PMC_Data\\_results\\data\\pubmed_open_access_files\\PMC28997\\cc-2-1-019.nxml\n",
      "no output\n",
      "f:\\PMC_Data\\_results\\data\\pubmed_open_access_files\\PMC28998\\cc-2-1-025.nxml\n",
      "starting...\n",
      "parsed f:\\PMC_Data\\_results\\data\\pubmed_open_access_files\\PMC28998\\cc-2-1-025.nxml\n",
      "no output\n",
      "f:\\PMC_Data\\_results\\data\\pubmed_open_access_files\\PMC28999\\cc-2-1-029.nxml\n",
      "starting...\n",
      "parsed f:\\PMC_Data\\_results\\data\\pubmed_open_access_files\\PMC28999\\cc-2-1-029.nxml\n",
      "no output\n",
      "f:\\PMC_Data\\_results\\data\\pubmed_open_access_files\\PMC29000\\cc-2-1-035.nxml\n",
      "starting...\n",
      "parsed f:\\PMC_Data\\_results\\data\\pubmed_open_access_files\\PMC29000\\cc-2-1-035.nxml\n",
      "f:\\PMC_Data\\_results\\data\\pubmed_open_access_files\\PMC29001\\cc-2-2-049.nxml\n",
      "starting...\n",
      "parsed f:\\PMC_Data\\_results\\data\\pubmed_open_access_files\\PMC29001\\cc-2-2-049.nxml\n",
      "no output\n",
      "f:\\PMC_Data\\_results\\data\\pubmed_open_access_files\\PMC29002\\cc-2-2-057.nxml\n",
      "starting...\n",
      "parsed f:\\PMC_Data\\_results\\data\\pubmed_open_access_files\\PMC29002\\cc-2-2-057.nxml\n",
      "f:\\PMC_Data\\_results\\data\\pubmed_open_access_files\\PMC29003\\cc-2-2-061.nxml\n",
      "starting...\n",
      "parsed f:\\PMC_Data\\_results\\data\\pubmed_open_access_files\\PMC29003\\cc-2-2-061.nxml\n",
      "no output\n",
      "f:\\PMC_Data\\_results\\data\\pubmed_open_access_files\\PMC29004\\cc-2-2-067.nxml\n",
      "starting...\n",
      "parsed f:\\PMC_Data\\_results\\data\\pubmed_open_access_files\\PMC29004\\cc-2-2-067.nxml\n",
      "f:\\PMC_Data\\_results\\data\\pubmed_open_access_files\\PMC29005\\cc-3-1-001.nxml\n",
      "starting...\n",
      "parsed f:\\PMC_Data\\_results\\data\\pubmed_open_access_files\\PMC29005\\cc-3-1-001.nxml\n",
      "f:\\PMC_Data\\_results\\data\\pubmed_open_access_files\\PMC29006\\cc-3-1-007.nxml\n",
      "starting...\n",
      "parsed f:\\PMC_Data\\_results\\data\\pubmed_open_access_files\\PMC29006\\cc-3-1-007.nxml\n",
      "no output\n",
      "f:\\PMC_Data\\_results\\data\\pubmed_open_access_files\\PMC29007\\cc-3-1-011.nxml\n",
      "starting...\n",
      "parsed f:\\PMC_Data\\_results\\data\\pubmed_open_access_files\\PMC29007\\cc-3-1-011.nxml\n",
      "f:\\PMC_Data\\_results\\data\\pubmed_open_access_files\\PMC29008\\cc-3-1-017.nxml\n",
      "starting...\n",
      "parsed f:\\PMC_Data\\_results\\data\\pubmed_open_access_files\\PMC29008\\cc-3-1-017.nxml\n",
      "no output\n",
      "f:\\PMC_Data\\_results\\data\\pubmed_open_access_files\\PMC29009\\cc-3-1-019.nxml\n",
      "starting...\n",
      "parsed f:\\PMC_Data\\_results\\data\\pubmed_open_access_files\\PMC29009\\cc-3-1-019.nxml\n",
      "f:\\PMC_Data\\_results\\data\\pubmed_open_access_files\\PMC29010\\cc-3-1-023.nxml\n",
      "starting...\n",
      "parsed f:\\PMC_Data\\_results\\data\\pubmed_open_access_files\\PMC29010\\cc-3-1-023.nxml\n",
      "no output\n",
      "f:\\PMC_Data\\_results\\data\\pubmed_open_access_files\\PMC29011\\cc-3-1-033.nxml\n",
      "starting...\n",
      "parsed f:\\PMC_Data\\_results\\data\\pubmed_open_access_files\\PMC29011\\cc-3-1-033.nxml\n",
      "f:\\PMC_Data\\_results\\data\\pubmed_open_access_files\\PMC29012\\cc-3-1-039.nxml\n",
      "starting...\n",
      "parsed f:\\PMC_Data\\_results\\data\\pubmed_open_access_files\\PMC29012\\cc-3-1-039.nxml\n",
      "f:\\PMC_Data\\_results\\data\\pubmed_open_access_files\\PMC29013\\cc-3-1-045.nxml\n",
      "starting...\n",
      "parsed f:\\PMC_Data\\_results\\data\\pubmed_open_access_files\\PMC29013\\cc-3-1-045.nxml\n",
      "f:\\PMC_Data\\_results\\data\\pubmed_open_access_files\\PMC29014\\cc-3-1-051.nxml\n",
      "starting...\n",
      "parsed f:\\PMC_Data\\_results\\data\\pubmed_open_access_files\\PMC29014\\cc-3-1-051.nxml\n",
      "f:\\PMC_Data\\_results\\data\\pubmed_open_access_files\\PMC29015\\cc-3-2-057.nxml\n",
      "starting...\n",
      "parsed f:\\PMC_Data\\_results\\data\\pubmed_open_access_files\\PMC29015\\cc-3-2-057.nxml\n",
      "f:\\PMC_Data\\_results\\data\\pubmed_open_access_files\\PMC29016\\cc-3-2-065.nxml\n",
      "starting...\n",
      "parsed f:\\PMC_Data\\_results\\data\\pubmed_open_access_files\\PMC29016\\cc-3-2-065.nxml\n",
      "f:\\PMC_Data\\_results\\data\\pubmed_open_access_files\\PMC29017\\cc-3-3-071.nxml\n",
      "starting...\n",
      "parsed f:\\PMC_Data\\_results\\data\\pubmed_open_access_files\\PMC29017\\cc-3-3-071.nxml\n",
      "no output\n",
      "f:\\PMC_Data\\_results\\data\\pubmed_open_access_files\\PMC29018\\cc-3-3-079.nxml\n",
      "starting...\n",
      "parsed f:\\PMC_Data\\_results\\data\\pubmed_open_access_files\\PMC29018\\cc-3-3-079.nxml\n",
      "no output\n",
      "f:\\PMC_Data\\_results\\data\\pubmed_open_access_files\\PMC29019\\cc-3-3-085.nxml\n",
      "starting...\n",
      "parsed f:\\PMC_Data\\_results\\data\\pubmed_open_access_files\\PMC29019\\cc-3-3-085.nxml\n",
      "no output\n",
      "f:\\PMC_Data\\_results\\data\\pubmed_open_access_files\\PMC29020\\cc-3-4-091.nxml\n",
      "starting...\n",
      "parsed f:\\PMC_Data\\_results\\data\\pubmed_open_access_files\\PMC29020\\cc-3-4-091.nxml\n",
      "f:\\PMC_Data\\_results\\data\\pubmed_open_access_files\\PMC29021\\cc-3-4-095.nxml\n",
      "starting...\n",
      "parsed f:\\PMC_Data\\_results\\data\\pubmed_open_access_files\\PMC29021\\cc-3-4-095.nxml\n",
      "f:\\PMC_Data\\_results\\data\\pubmed_open_access_files\\PMC29022\\cc-3-4-101.nxml\n",
      "starting...\n",
      "parsed f:\\PMC_Data\\_results\\data\\pubmed_open_access_files\\PMC29022\\cc-3-4-101.nxml\n",
      "f:\\PMC_Data\\_results\\data\\pubmed_open_access_files\\PMC29023\\cc-3-4-111.nxml\n",
      "starting...\n",
      "parsed f:\\PMC_Data\\_results\\data\\pubmed_open_access_files\\PMC29023\\cc-3-4-111.nxml\n",
      "f:\\PMC_Data\\_results\\data\\pubmed_open_access_files\\PMC29024\\cc-3-4-117.nxml\n",
      "starting...\n",
      "parsed f:\\PMC_Data\\_results\\data\\pubmed_open_access_files\\PMC29024\\cc-3-4-117.nxml\n",
      "f:\\PMC_Data\\_results\\data\\pubmed_open_access_files\\PMC29025\\cc-3-5-123.nxml\n",
      "starting...\n",
      "parsed f:\\PMC_Data\\_results\\data\\pubmed_open_access_files\\PMC29025\\cc-3-5-123.nxml\n",
      "f:\\PMC_Data\\_results\\data\\pubmed_open_access_files\\PMC29026\\cc-3-5-127.nxml\n",
      "starting...\n",
      "parsed f:\\PMC_Data\\_results\\data\\pubmed_open_access_files\\PMC29026\\cc-3-5-127.nxml\n",
      "f:\\PMC_Data\\_results\\data\\pubmed_open_access_files\\PMC29027\\cc-3-5-131.nxml\n",
      "starting...\n",
      "parsed f:\\PMC_Data\\_results\\data\\pubmed_open_access_files\\PMC29027\\cc-3-5-131.nxml\n",
      "f:\\PMC_Data\\_results\\data\\pubmed_open_access_files\\PMC29028\\cc-3-6-135.nxml\n",
      "starting...\n",
      "parsed f:\\PMC_Data\\_results\\data\\pubmed_open_access_files\\PMC29028\\cc-3-6-135.nxml\n",
      "f:\\PMC_Data\\_results\\data\\pubmed_open_access_files\\PMC29029\\cc-3-6-139.nxml\n",
      "starting...\n",
      "parsed f:\\PMC_Data\\_results\\data\\pubmed_open_access_files\\PMC29029\\cc-3-6-139.nxml\n",
      "no output\n",
      "f:\\PMC_Data\\_results\\data\\pubmed_open_access_files\\PMC29030\\cc-3-6-145.nxml\n",
      "starting...\n",
      "parsed f:\\PMC_Data\\_results\\data\\pubmed_open_access_files\\PMC29030\\cc-3-6-145.nxml\n",
      "no output\n",
      "f:\\PMC_Data\\_results\\data\\pubmed_open_access_files\\PMC29031\\cc-3-6-151.nxml\n",
      "starting...\n",
      "parsed f:\\PMC_Data\\_results\\data\\pubmed_open_access_files\\PMC29031\\cc-3-6-151.nxml\n",
      "no output\n",
      "f:\\PMC_Data\\_results\\data\\pubmed_open_access_files\\PMC29032\\cc-3-6-159.nxml\n",
      "starting...\n",
      "parsed f:\\PMC_Data\\_results\\data\\pubmed_open_access_files\\PMC29032\\cc-3-6-159.nxml\n",
      "f:\\PMC_Data\\_results\\data\\pubmed_open_access_files\\PMC29033\\cc-3-6-167.nxml\n",
      "starting...\n",
      "parsed f:\\PMC_Data\\_results\\data\\pubmed_open_access_files\\PMC29033\\cc-3-6-167.nxml\n",
      "no output\n",
      "f:\\PMC_Data\\_results\\data\\pubmed_open_access_files\\PMC29034\\cc-4-1-040.nxml\n",
      "starting...\n",
      "parsed f:\\PMC_Data\\_results\\data\\pubmed_open_access_files\\PMC29034\\cc-4-1-040.nxml\n",
      "f:\\PMC_Data\\_results\\data\\pubmed_open_access_files\\PMC29035\\cc-4-1-045.nxml\n",
      "starting...\n",
      "parsed f:\\PMC_Data\\_results\\data\\pubmed_open_access_files\\PMC29035\\cc-4-1-045.nxml\n",
      "f:\\PMC_Data\\_results\\data\\pubmed_open_access_files\\PMC29036\\cc-4-1-050.nxml\n",
      "starting...\n",
      "parsed f:\\PMC_Data\\_results\\data\\pubmed_open_access_files\\PMC29036\\cc-4-1-050.nxml\n",
      "no output\n",
      "f:\\PMC_Data\\_results\\data\\pubmed_open_access_files\\PMC29037\\cc-4-1-054.nxml\n",
      "starting...\n",
      "parsed f:\\PMC_Data\\_results\\data\\pubmed_open_access_files\\PMC29037\\cc-4-1-054.nxml\n",
      "f:\\PMC_Data\\_results\\data\\pubmed_open_access_files\\PMC29038\\cc-4-2-114.nxml\n",
      "starting...\n",
      "parsed f:\\PMC_Data\\_results\\data\\pubmed_open_access_files\\PMC29038\\cc-4-2-114.nxml\n",
      "f:\\PMC_Data\\_results\\data\\pubmed_open_access_files\\PMC29039\\cc-4-2-120.nxml\n",
      "starting...\n",
      "parsed f:\\PMC_Data\\_results\\data\\pubmed_open_access_files\\PMC29039\\cc-4-2-120.nxml\n",
      "f:\\PMC_Data\\_results\\data\\pubmed_open_access_files\\PMC29040\\cc-4-2-124.nxml\n",
      "starting...\n",
      "parsed f:\\PMC_Data\\_results\\data\\pubmed_open_access_files\\PMC29040\\cc-4-2-124.nxml\n",
      "no output\n",
      "f:\\PMC_Data\\_results\\data\\pubmed_open_access_files\\PMC29041\\cc-4-3-180.nxml\n",
      "starting...\n",
      "parsed f:\\PMC_Data\\_results\\data\\pubmed_open_access_files\\PMC29041\\cc-4-3-180.nxml\n",
      "f:\\PMC_Data\\_results\\data\\pubmed_open_access_files\\PMC29042\\cc-4-3-188.nxml\n",
      "starting...\n",
      "parsed f:\\PMC_Data\\_results\\data\\pubmed_open_access_files\\PMC29042\\cc-4-3-188.nxml\n",
      "no output\n",
      "f:\\PMC_Data\\_results\\data\\pubmed_open_access_files\\PMC29043\\cc-4-3-193.nxml\n",
      "starting...\n",
      "parsed f:\\PMC_Data\\_results\\data\\pubmed_open_access_files\\PMC29043\\cc-4-3-193.nxml\n",
      "f:\\PMC_Data\\_results\\data\\pubmed_open_access_files\\PMC29044\\cc-4-4-245.nxml\n",
      "starting...\n",
      "parsed f:\\PMC_Data\\_results\\data\\pubmed_open_access_files\\PMC29044\\cc-4-4-245.nxml\n",
      "f:\\PMC_Data\\_results\\data\\pubmed_open_access_files\\PMC29045\\cc-4-4-249.nxml\n",
      "starting...\n",
      "parsed f:\\PMC_Data\\_results\\data\\pubmed_open_access_files\\PMC29045\\cc-4-4-249.nxml\n",
      "f:\\PMC_Data\\_results\\data\\pubmed_open_access_files\\PMC29046\\cc-4-4-255.nxml\n",
      "starting...\n",
      "parsed f:\\PMC_Data\\_results\\data\\pubmed_open_access_files\\PMC29046\\cc-4-4-255.nxml\n",
      "f:\\PMC_Data\\_results\\data\\pubmed_open_access_files\\PMC29047\\cc-4-5-302.nxml\n",
      "starting...\n",
      "parsed f:\\PMC_Data\\_results\\data\\pubmed_open_access_files\\PMC29047\\cc-4-5-302.nxml\n",
      "f:\\PMC_Data\\_results\\data\\pubmed_open_access_files\\PMC29048\\cc-4-5-309.nxml\n",
      "starting...\n",
      "parsed f:\\PMC_Data\\_results\\data\\pubmed_open_access_files\\PMC29048\\cc-4-5-309.nxml\n",
      "no output\n",
      "f:\\PMC_Data\\_results\\data\\pubmed_open_access_files\\PMC29049\\cc-4-5-314.nxml\n",
      "starting...\n",
      "parsed f:\\PMC_Data\\_results\\data\\pubmed_open_access_files\\PMC29049\\cc-4-5-314.nxml\n",
      "f:\\PMC_Data\\_results\\data\\pubmed_open_access_files\\PMC29050\\cc-4-5-319.nxml\n",
      "starting...\n",
      "parsed f:\\PMC_Data\\_results\\data\\pubmed_open_access_files\\PMC29050\\cc-4-5-319.nxml\n",
      "no output\n",
      "f:\\PMC_Data\\_results\\data\\pubmed_open_access_files\\PMC29051\\cc-4-6-369.nxml\n",
      "starting...\n",
      "parsed f:\\PMC_Data\\_results\\data\\pubmed_open_access_files\\PMC29051\\cc-4-6-369.nxml\n",
      "f:\\PMC_Data\\_results\\data\\pubmed_open_access_files\\PMC29052\\CC-5-1-019.nxml\n",
      "starting...\n",
      "parsed f:\\PMC_Data\\_results\\data\\pubmed_open_access_files\\PMC29052\\CC-5-1-019.nxml\n",
      "f:\\PMC_Data\\_results\\data\\pubmed_open_access_files\\PMC29053\\CC-5-1-024.nxml\n",
      "starting...\n",
      "parsed f:\\PMC_Data\\_results\\data\\pubmed_open_access_files\\PMC29053\\CC-5-1-024.nxml\n",
      "f:\\PMC_Data\\_results\\data\\pubmed_open_access_files\\PMC29054\\CC-5-1-031.nxml\n",
      "starting...\n",
      "parsed f:\\PMC_Data\\_results\\data\\pubmed_open_access_files\\PMC29054\\CC-5-1-031.nxml\n",
      "f:\\PMC_Data\\_results\\data\\pubmed_open_access_files\\PMC29055\\CC-5-1-037.nxml\n",
      "starting...\n",
      "parsed f:\\PMC_Data\\_results\\data\\pubmed_open_access_files\\PMC29055\\CC-5-1-037.nxml\n",
      "no output\n",
      "f:\\PMC_Data\\_results\\data\\pubmed_open_access_files\\PMC29056\\CC-5-1-041.nxml\n",
      "starting...\n",
      "parsed f:\\PMC_Data\\_results\\data\\pubmed_open_access_files\\PMC29056\\CC-5-1-041.nxml\n",
      "f:\\PMC_Data\\_results\\data\\pubmed_open_access_files\\PMC29057\\1471-2091-1-1.nxml\n",
      "starting...\n",
      "parsed f:\\PMC_Data\\_results\\data\\pubmed_open_access_files\\PMC29057\\1471-2091-1-1.nxml\n",
      "f:\\PMC_Data\\_results\\data\\pubmed_open_access_files\\PMC29058\\1471-2091-1-2.nxml\n",
      "starting...\n",
      "parsed f:\\PMC_Data\\_results\\data\\pubmed_open_access_files\\PMC29058\\1471-2091-1-2.nxml\n",
      "f:\\PMC_Data\\_results\\data\\pubmed_open_access_files\\PMC29059\\1471-2091-1-3.nxml\n",
      "starting...\n",
      "parsed f:\\PMC_Data\\_results\\data\\pubmed_open_access_files\\PMC29059\\1471-2091-1-3.nxml\n",
      "f:\\PMC_Data\\_results\\data\\pubmed_open_access_files\\PMC29061\\1471-2105-1-1.nxml\n",
      "starting...\n",
      "parsed f:\\PMC_Data\\_results\\data\\pubmed_open_access_files\\PMC29061\\1471-2105-1-1.nxml\n",
      "f:\\PMC_Data\\_results\\data\\pubmed_open_access_files\\PMC29062\\1471-2121-1-1.nxml\n",
      "starting...\n",
      "parsed f:\\PMC_Data\\_results\\data\\pubmed_open_access_files\\PMC29062\\1471-2121-1-1.nxml\n",
      "f:\\PMC_Data\\_results\\data\\pubmed_open_access_files\\PMC29063\\1471-2121-1-2.nxml\n",
      "starting...\n",
      "parsed f:\\PMC_Data\\_results\\data\\pubmed_open_access_files\\PMC29063\\1471-2121-1-2.nxml\n",
      "f:\\PMC_Data\\_results\\data\\pubmed_open_access_files\\PMC29064\\1471-2121-1-3.nxml\n",
      "starting...\n",
      "parsed f:\\PMC_Data\\_results\\data\\pubmed_open_access_files\\PMC29064\\1471-2121-1-3.nxml\n",
      "f:\\PMC_Data\\_results\\data\\pubmed_open_access_files\\PMC29065\\1471-2121-1-4.nxml\n",
      "starting...\n",
      "parsed f:\\PMC_Data\\_results\\data\\pubmed_open_access_files\\PMC29065\\1471-2121-1-4.nxml\n",
      "f:\\PMC_Data\\_results\\data\\pubmed_open_access_files\\PMC29066\\1471-2121-2-1.nxml\n",
      "starting...\n",
      "parsed f:\\PMC_Data\\_results\\data\\pubmed_open_access_files\\PMC29066\\1471-2121-2-1.nxml\n",
      "f:\\PMC_Data\\_results\\data\\pubmed_open_access_files\\PMC29067\\1471-2121-2-2.nxml\n",
      "starting...\n",
      "parsed f:\\PMC_Data\\_results\\data\\pubmed_open_access_files\\PMC29067\\1471-2121-2-2.nxml\n",
      "f:\\PMC_Data\\_results\\data\\pubmed_open_access_files\\PMC29068\\1471-2121-2-3.nxml\n",
      "starting...\n",
      "parsed f:\\PMC_Data\\_results\\data\\pubmed_open_access_files\\PMC29068\\1471-2121-2-3.nxml\n",
      "f:\\PMC_Data\\_results\\data\\pubmed_open_access_files\\PMC29069\\1471-2121-2-4.nxml\n",
      "starting...\n",
      "parsed f:\\PMC_Data\\_results\\data\\pubmed_open_access_files\\PMC29069\\1471-2121-2-4.nxml\n",
      "f:\\PMC_Data\\_results\\data\\pubmed_open_access_files\\PMC29073\\1471-2148-1-1.nxml\n",
      "starting...\n",
      "parsed f:\\PMC_Data\\_results\\data\\pubmed_open_access_files\\PMC29073\\1471-2148-1-1.nxml\n",
      "f:\\PMC_Data\\_results\\data\\pubmed_open_access_files\\PMC29074\\1471-2296-1-1.nxml\n",
      "starting...\n",
      "parsed f:\\PMC_Data\\_results\\data\\pubmed_open_access_files\\PMC29074\\1471-2296-1-1.nxml\n",
      "f:\\PMC_Data\\_results\\data\\pubmed_open_access_files\\PMC29075\\1471-2296-1-2.nxml\n",
      "starting...\n",
      "parsed f:\\PMC_Data\\_results\\data\\pubmed_open_access_files\\PMC29075\\1471-2296-1-2.nxml\n",
      "f:\\PMC_Data\\_results\\data\\pubmed_open_access_files\\PMC29076\\1471-230X-1-1.nxml\n",
      "starting...\n",
      "parsed f:\\PMC_Data\\_results\\data\\pubmed_open_access_files\\PMC29076\\1471-230X-1-1.nxml\n",
      "f:\\PMC_Data\\_results\\data\\pubmed_open_access_files\\PMC29077\\1471-2156-1-1.nxml\n",
      "starting...\n",
      "parsed f:\\PMC_Data\\_results\\data\\pubmed_open_access_files\\PMC29077\\1471-2156-1-1.nxml\n",
      "f:\\PMC_Data\\_results\\data\\pubmed_open_access_files\\PMC29078\\1471-2156-1-2.nxml\n",
      "starting...\n",
      "parsed f:\\PMC_Data\\_results\\data\\pubmed_open_access_files\\PMC29078\\1471-2156-1-2.nxml\n",
      "f:\\PMC_Data\\_results\\data\\pubmed_open_access_files\\PMC29079\\1471-2156-1-3.nxml\n",
      "starting...\n",
      "parsed f:\\PMC_Data\\_results\\data\\pubmed_open_access_files\\PMC29079\\1471-2156-1-3.nxml\n",
      "f:\\PMC_Data\\_results\\data\\pubmed_open_access_files\\PMC29080\\1471-2156-1-4.nxml\n",
      "starting...\n",
      "parsed f:\\PMC_Data\\_results\\data\\pubmed_open_access_files\\PMC29080\\1471-2156-1-4.nxml\n",
      "f:\\PMC_Data\\_results\\data\\pubmed_open_access_files\\PMC29081\\1471-2156-2-1.nxml\n",
      "starting...\n",
      "parsed f:\\PMC_Data\\_results\\data\\pubmed_open_access_files\\PMC29081\\1471-2156-2-1.nxml\n",
      "f:\\PMC_Data\\_results\\data\\pubmed_open_access_files\\PMC29082\\1471-2156-2-2.nxml\n",
      "starting...\n",
      "parsed f:\\PMC_Data\\_results\\data\\pubmed_open_access_files\\PMC29082\\1471-2156-2-2.nxml\n",
      "f:\\PMC_Data\\_results\\data\\pubmed_open_access_files\\PMC29083\\1471-2156-2-3.nxml\n",
      "starting...\n",
      "parsed f:\\PMC_Data\\_results\\data\\pubmed_open_access_files\\PMC29083\\1471-2156-2-3.nxml\n",
      "f:\\PMC_Data\\_results\\data\\pubmed_open_access_files\\PMC29084\\1471-2156-2-4.nxml\n",
      "starting...\n",
      "parsed f:\\PMC_Data\\_results\\data\\pubmed_open_access_files\\PMC29084\\1471-2156-2-4.nxml\n",
      "f:\\PMC_Data\\_results\\data\\pubmed_open_access_files\\PMC29085\\1471-2164-1-1.nxml\n",
      "starting...\n",
      "parsed f:\\PMC_Data\\_results\\data\\pubmed_open_access_files\\PMC29085\\1471-2164-1-1.nxml\n",
      "f:\\PMC_Data\\_results\\data\\pubmed_open_access_files\\PMC29086\\1471-2164-1-2.nxml\n",
      "starting...\n",
      "parsed f:\\PMC_Data\\_results\\data\\pubmed_open_access_files\\PMC29086\\1471-2164-1-2.nxml\n",
      "f:\\PMC_Data\\_results\\data\\pubmed_open_access_files\\PMC29087\\1471-2334-1-1.nxml\n",
      "starting...\n",
      "parsed f:\\PMC_Data\\_results\\data\\pubmed_open_access_files\\PMC29087\\1471-2334-1-1.nxml\n",
      "f:\\PMC_Data\\_results\\data\\pubmed_open_access_files\\PMC29088\\1471-2199-1-1.nxml\n",
      "starting...\n",
      "parsed f:\\PMC_Data\\_results\\data\\pubmed_open_access_files\\PMC29088\\1471-2199-1-1.nxml\n",
      "f:\\PMC_Data\\_results\\data\\pubmed_open_access_files\\PMC29089\\1471-2199-1-2.nxml\n",
      "starting...\n",
      "parsed f:\\PMC_Data\\_results\\data\\pubmed_open_access_files\\PMC29089\\1471-2199-1-2.nxml\n",
      "f:\\PMC_Data\\_results\\data\\pubmed_open_access_files\\PMC29090\\1471-2199-2-1.nxml\n",
      "starting...\n",
      "parsed f:\\PMC_Data\\_results\\data\\pubmed_open_access_files\\PMC29090\\1471-2199-2-1.nxml\n",
      "f:\\PMC_Data\\_results\\data\\pubmed_open_access_files\\PMC29091\\1471-2199-2-2.nxml\n",
      "starting...\n",
      "parsed f:\\PMC_Data\\_results\\data\\pubmed_open_access_files\\PMC29091\\1471-2199-2-2.nxml\n",
      "f:\\PMC_Data\\_results\\data\\pubmed_open_access_files\\PMC29092\\1471-2199-2-3.nxml\n",
      "starting...\n",
      "parsed f:\\PMC_Data\\_results\\data\\pubmed_open_access_files\\PMC29092\\1471-2199-2-3.nxml\n",
      "f:\\PMC_Data\\_results\\data\\pubmed_open_access_files\\PMC29093\\1471-2350-1-1.nxml\n",
      "starting...\n",
      "parsed f:\\PMC_Data\\_results\\data\\pubmed_open_access_files\\PMC29093\\1471-2350-1-1.nxml\n",
      "no output\n",
      "f:\\PMC_Data\\_results\\data\\pubmed_open_access_files\\PMC29094\\1471-2350-2-1.nxml\n",
      "starting...\n",
      "parsed f:\\PMC_Data\\_results\\data\\pubmed_open_access_files\\PMC29094\\1471-2350-2-1.nxml\n",
      "no output\n",
      "f:\\PMC_Data\\_results\\data\\pubmed_open_access_files\\PMC29095\\1471-2350-2-2.nxml\n",
      "starting...\n",
      "parsed f:\\PMC_Data\\_results\\data\\pubmed_open_access_files\\PMC29095\\1471-2350-2-2.nxml\n",
      "f:\\PMC_Data\\_results\\data\\pubmed_open_access_files\\PMC29096\\1471-2350-2-3.nxml\n",
      "starting...\n",
      "parsed f:\\PMC_Data\\_results\\data\\pubmed_open_access_files\\PMC29096\\1471-2350-2-3.nxml\n",
      "f:\\PMC_Data\\_results\\data\\pubmed_open_access_files\\PMC29097\\1471-2180-1-1.nxml\n",
      "starting...\n",
      "parsed f:\\PMC_Data\\_results\\data\\pubmed_open_access_files\\PMC29097\\1471-2180-1-1.nxml\n",
      "f:\\PMC_Data\\_results\\data\\pubmed_open_access_files\\PMC29098\\1471-2369-1-1.nxml\n",
      "starting...\n",
      "parsed f:\\PMC_Data\\_results\\data\\pubmed_open_access_files\\PMC29098\\1471-2369-1-1.nxml\n",
      "f:\\PMC_Data\\_results\\data\\pubmed_open_access_files\\PMC29099\\1471-2377-1-1.nxml\n",
      "starting...\n",
      "parsed f:\\PMC_Data\\_results\\data\\pubmed_open_access_files\\PMC29099\\1471-2377-1-1.nxml\n",
      "f:\\PMC_Data\\_results\\data\\pubmed_open_access_files\\PMC29100\\1471-2202-1-1.nxml\n",
      "starting...\n",
      "parsed f:\\PMC_Data\\_results\\data\\pubmed_open_access_files\\PMC29100\\1471-2202-1-1.nxml\n",
      "f:\\PMC_Data\\_results\\data\\pubmed_open_access_files\\PMC29101\\1471-2202-2-1.nxml\n",
      "starting...\n",
      "parsed f:\\PMC_Data\\_results\\data\\pubmed_open_access_files\\PMC29101\\1471-2202-2-1.nxml\n",
      "f:\\PMC_Data\\_results\\data\\pubmed_open_access_files\\PMC29102\\1471-2202-2-2.nxml\n",
      "starting...\n",
      "parsed f:\\PMC_Data\\_results\\data\\pubmed_open_access_files\\PMC29102\\1471-2202-2-2.nxml\n",
      "f:\\PMC_Data\\_results\\data\\pubmed_open_access_files\\PMC29103\\1471-2202-2-3.nxml\n",
      "starting...\n",
      "parsed f:\\PMC_Data\\_results\\data\\pubmed_open_access_files\\PMC29103\\1471-2202-2-3.nxml\n",
      "f:\\PMC_Data\\_results\\data\\pubmed_open_access_files\\PMC29104\\1471-2431-1-1.nxml\n",
      "starting...\n",
      "parsed f:\\PMC_Data\\_results\\data\\pubmed_open_access_files\\PMC29104\\1471-2431-1-1.nxml\n",
      "f:\\PMC_Data\\_results\\data\\pubmed_open_access_files\\PMC29105\\1471-2458-1-1.nxml\n",
      "starting...\n",
      "parsed f:\\PMC_Data\\_results\\data\\pubmed_open_access_files\\PMC29105\\1471-2458-1-1.nxml\n",
      "no output\n",
      "f:\\PMC_Data\\_results\\data\\pubmed_open_access_files\\PMC29106\\1471-2458-1-2.nxml\n",
      "starting...\n",
      "parsed f:\\PMC_Data\\_results\\data\\pubmed_open_access_files\\PMC29106\\1471-2458-1-2.nxml\n",
      "no output\n",
      "f:\\PMC_Data\\_results\\data\\pubmed_open_access_files\\PMC29715\\gke204.nxml\n",
      "starting...\n",
      "parsed f:\\PMC_Data\\_results\\data\\pubmed_open_access_files\\PMC29715\\gke204.nxml\n",
      "f:\\PMC_Data\\_results\\data\\pubmed_open_access_files\\PMC29831\\GKE068.nxml\n",
      "starting...\n",
      "parsed f:\\PMC_Data\\_results\\data\\pubmed_open_access_files\\PMC29831\\GKE068.nxml\n",
      "f:\\PMC_Data\\_results\\data\\pubmed_open_access_files\\PMC30703\\BCR-3-3-192.nxml\n",
      "starting...\n",
      "parsed f:\\PMC_Data\\_results\\data\\pubmed_open_access_files\\PMC30703\\BCR-3-3-192.nxml\n",
      "f:\\PMC_Data\\_results\\data\\pubmed_open_access_files\\PMC30704\\BCR-3-3-199.nxml\n",
      "starting...\n",
      "parsed f:\\PMC_Data\\_results\\data\\pubmed_open_access_files\\PMC30704\\BCR-3-3-199.nxml\n",
      "f:\\PMC_Data\\_results\\data\\pubmed_open_access_files\\PMC30705\\bcr-3-3-183.nxml\n",
      "starting...\n",
      "parsed f:\\PMC_Data\\_results\\data\\pubmed_open_access_files\\PMC30705\\bcr-3-3-183.nxml\n",
      "f:\\PMC_Data\\_results\\data\\pubmed_open_access_files\\PMC30706\\gb-2001-2-3-research0007.nxml\n",
      "starting...\n",
      "parsed f:\\PMC_Data\\_results\\data\\pubmed_open_access_files\\PMC30706\\gb-2001-2-3-research0007.nxml\n",
      "f:\\PMC_Data\\_results\\data\\pubmed_open_access_files\\PMC30707\\gb-2001-2-3-research0008.nxml\n",
      "starting...\n",
      "parsed f:\\PMC_Data\\_results\\data\\pubmed_open_access_files\\PMC30707\\gb-2001-2-3-research0008.nxml\n",
      "f:\\PMC_Data\\_results\\data\\pubmed_open_access_files\\PMC30708\\gb-2001-2-3-research0009.nxml\n",
      "starting...\n",
      "parsed f:\\PMC_Data\\_results\\data\\pubmed_open_access_files\\PMC30708\\gb-2001-2-3-research0009.nxml\n",
      "f:\\PMC_Data\\_results\\data\\pubmed_open_access_files\\PMC30709\\AR-3-3-168.nxml\n",
      "starting...\n",
      "parsed f:\\PMC_Data\\_results\\data\\pubmed_open_access_files\\PMC30709\\AR-3-3-168.nxml\n",
      "f:\\PMC_Data\\_results\\data\\pubmed_open_access_files\\PMC30710\\AR-3-3-178.nxml\n",
      "starting...\n",
      "parsed f:\\PMC_Data\\_results\\data\\pubmed_open_access_files\\PMC30710\\AR-3-3-178.nxml\n",
      "f:\\PMC_Data\\_results\\data\\pubmed_open_access_files\\PMC30711\\AR-3-3-183.nxml\n",
      "starting...\n",
      "parsed f:\\PMC_Data\\_results\\data\\pubmed_open_access_files\\PMC30711\\AR-3-3-183.nxml\n",
      "f:\\PMC_Data\\_results\\data\\pubmed_open_access_files\\PMC30712\\AR-3-3-189.nxml\n",
      "starting...\n",
      "parsed f:\\PMC_Data\\_results\\data\\pubmed_open_access_files\\PMC30712\\AR-3-3-189.nxml\n",
      "f:\\PMC_Data\\_results\\data\\pubmed_open_access_files\\PMC30713\\CC-5-2-081.nxml\n",
      "starting...\n",
      "parsed f:\\PMC_Data\\_results\\data\\pubmed_open_access_files\\PMC30713\\CC-5-2-081.nxml\n",
      "f:\\PMC_Data\\_results\\data\\pubmed_open_access_files\\PMC30714\\CC-5-2-088.nxml\n",
      "starting...\n",
      "parsed f:\\PMC_Data\\_results\\data\\pubmed_open_access_files\\PMC30714\\CC-5-2-088.nxml\n",
      "f:\\PMC_Data\\_results\\data\\pubmed_open_access_files\\PMC30715\\CC-5-2-100.nxml\n",
      "starting...\n",
      "parsed f:\\PMC_Data\\_results\\data\\pubmed_open_access_files\\PMC30715\\CC-5-2-100.nxml\n",
      "f:\\PMC_Data\\_results\\data\\pubmed_open_access_files\\PMC30938\\1471-230X-1-2.nxml\n",
      "starting...\n",
      "parsed f:\\PMC_Data\\_results\\data\\pubmed_open_access_files\\PMC30938\\1471-230X-1-2.nxml\n",
      "no output\n",
      "Processed 200 files\n"
     ]
    }
   ],
   "source": [
    "pipeline_input_file_path = repo_root / \"_results\" / \"data\" / \"pubmed_parsed_data.jsonl\"\n",
    "\n",
    "data.generate_pmc15_pipeline_outputs(\n",
    "    decompressed_folder=decompressed_folder_path,\n",
    "    output_file_path=pipeline_input_file_path,\n",
    ")"
   ]
  },
  {
   "cell_type": "code",
   "execution_count": 9,
   "metadata": {},
   "outputs": [
    {
     "name": "stdout",
     "output_type": "stream",
     "text": [
      "Number of lines in pipeline output file: 162\n"
     ]
    }
   ],
   "source": [
    "num_lines = fs_utils.get_line_count(pipeline_input_file_path)\n",
    "print(f\"Number of lines in pipeline output file: {num_lines}\")"
   ]
  },
  {
   "cell_type": "markdown",
   "metadata": {},
   "source": [
    "### Processed parsed data"
   ]
  },
  {
   "cell_type": "code",
   "execution_count": null,
   "metadata": {},
   "outputs": [
    {
     "name": "stdout",
     "output_type": "stream",
     "text": [
      "Found 162 articles with figure data.\n",
      "\n",
      "Processed data saved to _results/data/pubmed_processed_data.json\n",
      "\n",
      "{\n",
      "  \"pmid\": \"11250747\",\n",
      "  \"pmc\": \"13901\",\n",
      "  \"location\": \"f:\\\\PMC_Data\\\\_results\\\\data\\\\pubmed_open_access_files\\\\PMC13901\",\n",
      "  \"figures\": [\n",
      "    {\n",
      "      \"fig_caption\": \"Immunohistochemical localization of BRCA1 and BRCA2 with formalin-fixed and paraffin sections in an ovotestis. (a) Hematoxylin eosin saffron (HES) histology of the ovotestis demonstrating testicular tissue with seminiferous cords (triangle), adjacent to ovarian tissue with primordial follicles (arrow) (\\u00d7 200). For BRCA1 protein: (b) K-18 antibodies showed cytoplasmic staining of oocytes (arrowhead) surrounded by follicule primordial and cytoplasmic staining of male germ cells (arrow) in seminiferous cords identified by the presence of Sertoli cells inside (\\u00d7 220); (c) 8F7 antibodies showed predominantly nuclear stainings of Sertoli cells (asterisk) and of oocytes (arrowhead), and cytoplasmic staining was also exhibited in the oocytes (\\u00d7 450); (d) 17F8 antibodies showed exclusive nuclear staining of Sertoli cells (arrow) (\\u00d7 470); (e) 17F8 antibodies showed cytoplasmic staining of oocytes (arrow) (\\u00d7 315); (f) 66046N antibodies showed cytoplasmic staining of oocytes (arrowhead) (\\u00d7 540); and (g) 66036N antibodies showed cytoplasmic staining of male and female germ cells, and slight nuclear staining in Sertoli cells in the tube (asterisk) (\\u00d7 385). For BRCA2 protein: (h) 66066E antibodies showed cytoplasmic staining of Sertoli cells (arrowhead) and oocytes (asterisk) (\\u00d7 545); and (i) 3E6 antibodies showed low cytoplasmic staining of Sertoli cells (asterisk) and female germ cells (arrowhead) (\\u00d7 660).\",\n",
      "      \"fig_id\": \"F1\",\n",
      "      \"fig_label\": \"Figure 1\",\n",
      "      \"graphic_ref\": \"f:\\\\PMC_Data\\\\_results\\\\data\\\\pubmed_open_access_files\\\\PMC13901\\\\BCR-3-1-061-1.jpg\",\n",
      "      \"pair_id\": \"11250747_F1\"\n",
      "    }\n",
      "  ]\n",
      "}\n",
      "--------------------------------------------------------------------------------\n",
      "{\n",
      "  \"pmid\": \"11250748\",\n",
      "  \"pmc\": \"13902\",\n",
      "  \"location\": \"f:\\\\PMC_Data\\\\_results\\\\data\\\\pubmed_open_access_files\\\\PMC13902\",\n",
      "  \"figures\": [\n",
      "    {\n",
      "      \"fig_caption\": \"Effect of chemopreventive agents on mammary tumor formation in the NMU rat model of mammary tumorigenesis. Rats were administered NMU at 8 weeks of age (time t = 0), and were randomized into six groups which were given the following chemopreventive agents continuously in their diet, starting 1 week after initiation: no additions (unfilled circle), 4-HPR (filled circle), 9cRA (unfilled square), tamoxifen (filled square), 4-HPR + tamoxifen (unfilled triangle), or 9cRA + tamoxifen (filled triangle). Rats were weighed and palpated for tumors each week. (a) Percentage of rats with palpable tumors. (b) Mean number of tumors per rat. (c) Mean weight of rat. The open arrow indicates the start of the chemopreventive intervention.\",\n",
      "      \"fig_id\": \"F1\",\n",
      "      \"fig_label\": \"Figure 1\",\n",
      "      \"graphic_ref\": \"f:\\\\PMC_Data\\\\_results\\\\data\\\\pubmed_open_access_files\\\\PMC13902\\\\BCR-3-1-066-1.jpg\",\n",
      "      \"pair_id\": \"11250748_F1\"\n",
      "    },\n",
      "    {\n",
      "      \"fig_caption\": \"Immunohistochemical analysis of TGF-\\u03b2 expression in the rat mammary gland. The first thoracic (number 2) mammary gland was harvested from 15-week-old rats that had been treated with NMU at age 8 weeks. Sections were immunostained (see Materials and method), with the following antisera: (a) anti-TGF-\\u03b21-LC (stains predominantly intracellular TGF-\\u03b21); (b) anti-TGF-\\u03b21-CC (stains extracellular TGF-\\u03b21); (c) anti-TGF-\\u03b22; (d) anti-TGF-\\u03b23; (e) anti-LTBP; and (f) normal rabbit immunoglobulin. The brown stain indicates a positive immunoperoxidase reaction. Images were shot at 630\\u00d7 original magnification.\",\n",
      "      \"fig_id\": \"F2\",\n",
      "      \"fig_label\": \"Figure 2\",\n",
      "      \"graphic_ref\": \"f:\\\\PMC_Data\\\\_results\\\\data\\\\pubmed_open_access_files\\\\PMC13902\\\\BCR-3-1-066-2.jpg\",\n",
      "      \"pair_id\": \"11250748_F2\"\n",
      "    },\n",
      "    {\n",
      "      \"fig_caption\": \"Lack of effect of chemopreventive agents on expression of TGF-\\u03b2s in the NMU-initiated rat mammary gland. Immunohistochemical staining intensity for TGF-\\u03b2s and LTBP was determined after 6 weeks of treatment with the following chemopreventive agents: None (C); 4-HPR (H); 9cRA (R); tamoxifen (T); 4-HPR + tamoxifen (T/H); 9cRA + tamoxifen (T/R). Staining intensity was determined independently for the ductal epithelial cells and the periductal stroma (see Materials and method). Staining intensity ranged from 0 to 4 (max). Results are given as the mean \\u00b1 SD for five or six rats/group. TGF-\\u03b21-LC is an antibody that predominantly recognizes intracellular TGF-\\u03b21, whereas TGF-\\u03b21-CC recognizes extracellular TGF-\\u03b21.\",\n",
      "      \"fig_id\": \"F3\",\n",
      "      \"fig_label\": \"Figure 3\",\n",
      "      \"graphic_ref\": \"f:\\\\PMC_Data\\\\_results\\\\data\\\\pubmed_open_access_files\\\\PMC13902\\\\BCR-3-1-066-3.jpg\",\n",
      "      \"pair_id\": \"11250748_F3\"\n",
      "    },\n",
      "    {\n",
      "      \"fig_caption\": \"Treatment with tamoxifen affects the histology of the rat mammary gland. Representative hematoxylin and eosin stained sections of the first thoracic gland of 15-week-old rats that had undergone the following treatments: (a, b) No treatment; moderate numbers of mammary gland lobules are present containing primary, secondary and tertiary ductules, as well as developing alveoli. (c, d) Initiation with NMU at 8 weeks of age; no significant histologic differences are noted in mammary gland development from that in untreated control animals. (e, f) Initiation with NMU at 8 weeks, followed by treatment with tamoxifen from 9 to 15 weeks of age; scant numbers of atrophic primary and secondary mammary gland ductules are noted, with no alveolar bud development evident. (a, c, e) Shot at 100\\u00d7; and (b, d, f) shot at 400\\u00d7 original magnification.\",\n",
      "      \"fig_id\": \"F4\",\n",
      "      \"fig_label\": \"Figure 4\",\n",
      "      \"graphic_ref\": \"f:\\\\PMC_Data\\\\_results\\\\data\\\\pubmed_open_access_files\\\\PMC13902\\\\BCR-3-1-066-4.jpg\",\n",
      "      \"pair_id\": \"11250748_F4\"\n",
      "    }\n",
      "  ]\n",
      "}\n",
      "--------------------------------------------------------------------------------\n",
      "{\n",
      "  \"pmid\": \"11400682\",\n",
      "  \"pmc\": \"13912\",\n",
      "  \"location\": \"f:\\\\PMC_Data\\\\_results\\\\data\\\\pubmed_open_access_files\\\\PMC13912\",\n",
      "  \"figures\": [\n",
      "    {\n",
      "      \"fig_caption\": \"Comparison of the relative expression of estrogen receptor (ER)\\n\\t\\t\\t\\tvariant truncated after sequences encoding exon 2 of the wild-type (WT)\\n\\t\\t\\t\\tER-\\u03b1 (ERC4) messenger RNAs between breast tumor and adjacent matched\\n\\t\\t\\t\\tnormal breast samples. (A) Total RNA extracted from frozen tissue\\n\\t\\t\\t\\tsections from tumor (T) and adjacent normal (N) breast tissue samples was\\n\\t\\t\\t\\treverse transcribed and polymerase chain reaction (PCR) was amplified using\\n\\t\\t\\t\\tERU, ERL and C4L primers (see text). Radioactive PCR products were separated on\\n\\t\\t\\t\\ta 6% acrylamide gel and visualized by autoradiography. Bands migrating at 149\\n\\t\\t\\t\\tand 536 base pairs were identified as corresponding to WT-ER and ERC4 variant\\n\\t\\t\\t\\tmessenger RNA, respectively. C, negative control (no complementary DNA added\\n\\t\\t\\t\\tduring the PCR reaction). (B) For each case, signals corresponding to\\n\\t\\t\\t\\tERC4 variant messenger RNA were quantified (see text) and expressed in\\n\\t\\t\\t\\tarbitrary units for tumor (black column) and normal (white column) components.\\n\\t\\t\\t\\tFor each sample, the mean and the standard deviation of at least three\\n\\t\\t\\t\\tdifferent PCR assays are indicated. Cases are sorted by ER status (black bottom\\n\\t\\t\\t\\tlane) and progesterone receptor (PR) status (gray bottom lane). The\\n\\t\\t\\t\\tsignificance of the differences between tumor and normal matched components\\n\\t\\t\\t\\twithin each subgroup, as tested using the Wilcoxon matched-pair test, is\\n\\t\\t\\t\\tindicated where P <0.05. M, molecular weight marker (fx174 Haelll\\n\\t\\t\\t\\tdigest, Gibco BRL, Grand Island, New York, NY).\",\n",
      "      \"fig_id\": \"F1\",\n",
      "      \"fig_label\": \"Figure 1\",\n",
      "      \"graphic_ref\": \"f:\\\\PMC_Data\\\\_results\\\\data\\\\pubmed_open_access_files\\\\PMC13912\\\\bcr-2-1-064-1.jpg\",\n",
      "      \"pair_id\": \"11400682_F1\"\n",
      "    },\n",
      "    {\n",
      "      \"fig_caption\": \"Comparison of the relative expression of exon 3 deleted estrogen\\n\\t\\t\\t\\treceptor (ER) variant (ERD3) messenger RNA between breast tumor and adjacent\\n\\t\\t\\t\\tmatched normal breast samples. (A) Total RNA extracted from frozen\\n\\t\\t\\t\\ttissue sections from tumor (T) and adjacent normal (N) breast tissue samples\\n\\t\\t\\t\\twas reverse transcribed and polymerase chain reaction (PCR) was amplified using\\n\\t\\t\\t\\tD3U and D3L primers. Radioactive PCR products were separated on a 6% acrylamide\\n\\t\\t\\t\\tgel and visualized by autoradiography. Bands migrating at 354 and 237 base\\n\\t\\t\\t\\tpairs were identified as corresponding to wild-type (WT)-ER and ERD3 variant\\n\\t\\t\\t\\tmessenger RNA, respectively. C, negative control (no complementary DNA added\\n\\t\\t\\t\\tduring the PCR reaction). (B) For each case, signals corresponding to\\n\\t\\t\\t\\tERD3 variant messenger RNA were quantified and expressed in arbitrary units for\\n\\t\\t\\t\\ttumor (black column) and normal (white column) components. For each sample, the\\n\\t\\t\\t\\tmean and the standard deviation of at least three different polymerase chain\\n\\t\\t\\t\\treaction (PCR) assays are indicated. Cases are sorted by ER status (black\\n\\t\\t\\t\\tbottom lane) and progesterone receptor (PR) status (gray bottom lane). Samples\\n\\t\\t\\t\\tthat failed to have three measurable signals in the four experiments performed\\n\\t\\t\\t\\tin both normal and neoplastic components were not included in the statistical\\n\\t\\t\\t\\tanalysis. The significance of the differences between tumor and normal matched\\n\\t\\t\\t\\tcomponents within each subgroup, as tested using the Wilcoxon matched-pair\\n\\t\\t\\t\\ttest, is indicated where P <0.05. M, molecular weight marker.\",\n",
      "      \"fig_id\": \"F2\",\n",
      "      \"fig_label\": \"Figure 2\",\n",
      "      \"graphic_ref\": \"f:\\\\PMC_Data\\\\_results\\\\data\\\\pubmed_open_access_files\\\\PMC13912\\\\bcr-2-1-064-2.jpg\",\n",
      "      \"pair_id\": \"11400682_F2\"\n",
      "    },\n",
      "    {\n",
      "      \"fig_caption\": \"Comparison of the relative expression of exon 3 deleted estrogen\\n\\t\\t\\t\\treceptor (ER) variant (ERD3) messenger RNA between breast tumor and adjacent\\n\\t\\t\\t\\tmatched normal breast samples. (A) Total RNA extracted from frozen\\n\\t\\t\\t\\ttissue sections from tumor (T) and adjacent normal (N) breast tissue samples\\n\\t\\t\\t\\twas reverse transcribed and polymerase chain reaction (PCR) amplified using D5U\\n\\t\\t\\t\\tand D5L primers. Radioactive PCR products were separated on a 6% acrylamide gel\\n\\t\\t\\t\\tand visualized by autoradiography. Bands that migrated at 483 and 344 base\\n\\t\\t\\t\\tpairs were identified as corresponding to wild-type (WT)-ER and exon 5 deleted\\n\\t\\t\\t\\tER variant (ERD5) messenger RNA, respectively. C, negative control (no\\n\\t\\t\\t\\tcomplementary DNA added during the PCR reaction). (B) For each case,\\n\\t\\t\\t\\tsignals corresponding to ERD5 variant messenger RNA were quantified and\\n\\t\\t\\t\\texpressed in arbitrary units for tumor (black column) and normal (white column)\\n\\t\\t\\t\\tcomponents. For each sample, the mean and the standard deviation of at least\\n\\t\\t\\t\\tthree different PCR assays are indicated. Cases are sorted by ER status (black\\n\\t\\t\\t\\tbottom lane) and progesterone receptor (PR) status (gray bottom lane). Samples\\n\\t\\t\\t\\tthat failed to have three measurable signals in the four experiments performed\\n\\t\\t\\t\\tin both normal and neoplastic components were not included in the statistical\\n\\t\\t\\t\\tanalysis. The significance of the differences between tumor and normal matched\\n\\t\\t\\t\\tcomponents within each subgroup, as tested using the Wilcoxon matched-pair\\n\\t\\t\\t\\ttest, is indicated where P <0.05. m, molecular weight marker.\",\n",
      "      \"fig_id\": \"F3\",\n",
      "      \"fig_label\": \"Figure 3\",\n",
      "      \"graphic_ref\": \"f:\\\\PMC_Data\\\\_results\\\\data\\\\pubmed_open_access_files\\\\PMC13912\\\\bcr-2-1-064-3.jpg\",\n",
      "      \"pair_id\": \"11400682_F3\"\n",
      "    }\n",
      "  ]\n",
      "}\n",
      "--------------------------------------------------------------------------------\n",
      "{\n",
      "  \"pmid\": \"11056681\",\n",
      "  \"pmc\": \"13913\",\n",
      "  \"location\": \"f:\\\\PMC_Data\\\\_results\\\\data\\\\pubmed_open_access_files\\\\PMC13913\",\n",
      "  \"figures\": [\n",
      "    {\n",
      "      \"fig_caption\": \"Location of UK National Health Service Breast Screening Centres that began recruitment into the Million Women Study before December 1998.\",\n",
      "      \"fig_id\": \"F1\",\n",
      "      \"fig_label\": \"Figure 1\",\n",
      "      \"graphic_ref\": \"f:\\\\PMC_Data\\\\_results\\\\data\\\\pubmed_open_access_files\\\\PMC13913\\\\bcr-1-1-073-1.jpg\",\n",
      "      \"pair_id\": \"11056681_F1\"\n",
      "    },\n",
      "    {\n",
      "      \"fig_caption\": \"Accrual of women into the Million Women Study, up to June 1999.\",\n",
      "      \"fig_id\": \"F2\",\n",
      "      \"fig_label\": \"Figure 2\",\n",
      "      \"graphic_ref\": \"f:\\\\PMC_Data\\\\_results\\\\data\\\\pubmed_open_access_files\\\\PMC13913\\\\bcr-1-1-073-2.jpg\",\n",
      "      \"pair_id\": \"11056681_F2\"\n",
      "    }\n",
      "  ]\n",
      "}\n",
      "--------------------------------------------------------------------------------\n",
      "{\n",
      "  \"pmid\": \"11056682\",\n",
      "  \"pmc\": \"13914\",\n",
      "  \"location\": \"f:\\\\PMC_Data\\\\_results\\\\data\\\\pubmed_open_access_files\\\\PMC13914\",\n",
      "  \"figures\": [\n",
      "    {\n",
      "      \"fig_caption\": \"Polymerase chain reaction product of paired lymphocyte (L) and tumour (T) DNA from coamplification of glutathione S-transferase (GST)M1 (271 base pair) and interferon-\\u03b2 (170 base pair) genes. Lane 1 shows a homozygously present GSTM1 allele. Lane 2 shows a homozygously null-GSTM1 allele. M1 is \\u03a6X174-HaeIII digested DNA marker. M2 is \\u03a6X174-HinfI digested DNA marker.\",\n",
      "      \"fig_id\": \"F1\",\n",
      "      \"fig_label\": \"Figure 1\",\n",
      "      \"graphic_ref\": \"f:\\\\PMC_Data\\\\_results\\\\data\\\\pubmed_open_access_files\\\\PMC13914\\\\bcr-1-1-081-1.jpg\",\n",
      "      \"pair_id\": \"11056682_F1\"\n",
      "    }\n",
      "  ]\n",
      "}\n",
      "--------------------------------------------------------------------------------\n"
     ]
    }
   ],
   "source": [
    "# import json\n",
    "# import os\n",
    "\n",
    "# # Paths to input and output files in the _results/data folder\n",
    "# input_file_path = '_results/data/pubmed_parsed_data.jsonl'\n",
    "# output_file_path = '_results/data/pubmed_processed_data.json'\n",
    "\n",
    "# def parse_pubmed_data(file_path):\n",
    "#     \"\"\"\n",
    "#     Reads the JSONL file and returns a list of articles that have figure data.\n",
    "#     Each line in the file should be a JSON object.\n",
    "#     \"\"\"\n",
    "#     articles = []\n",
    "#     with open(file_path, 'r', encoding='utf-8') as f:\n",
    "#         for line in f:\n",
    "#             try:\n",
    "#                 data = json.loads(line.strip())\n",
    "#                 # Only keep articles that contain figure data\n",
    "#                 if data.get(\"figures\"):\n",
    "#                     articles.append(data)\n",
    "#             except json.JSONDecodeError as e:\n",
    "#                 print(f\"Error decoding JSON: {e}\")\n",
    "#     return articles\n",
    "\n",
    "# def process_article(article):\n",
    "#     \"\"\"\n",
    "#     Extracts relevant information from an article.\n",
    "#     Returns a dictionary with the article's pmid, pmc, location, and a list of figures.\n",
    "#     \"\"\"\n",
    "#     processed = {\n",
    "#         \"pmid\": article.get(\"pmid\"),\n",
    "#         \"pmc\": article.get(\"pmc\"),\n",
    "#         \"location\": article.get(\"location\"),\n",
    "#         \"figures\": []\n",
    "#     }\n",
    "#     for fig in article.get(\"figures\", []):\n",
    "#         figure_data = {\n",
    "#             \"fig_caption\": fig.get(\"fig_caption\"),\n",
    "#             \"fig_id\": fig.get(\"fig_id\"),\n",
    "#             \"fig_label\": fig.get(\"fig_label\"),\n",
    "#             \"graphic_ref\": fig.get(\"graphic_ref\"),\n",
    "#             \"pair_id\": fig.get(\"pair_id\")\n",
    "#         }\n",
    "#         processed[\"figures\"].append(figure_data)\n",
    "#     return processed\n",
    "\n",
    "# def main():\n",
    "#     # Parse the JSONL file\n",
    "#     articles = parse_pubmed_data(input_file_path)\n",
    "#     print(f\"Found {len(articles)} articles with figure data.\\n\")\n",
    "    \n",
    "#     # Process all articles\n",
    "#     processed_articles = [process_article(article) for article in articles]\n",
    "    \n",
    "#     # Ensure output directory exists\n",
    "#     os.makedirs(os.path.dirname(output_file_path), exist_ok=True)\n",
    "    \n",
    "#     # Save the processed data to a JSON file\n",
    "#     with open(output_file_path, 'w', encoding='utf-8') as outfile:\n",
    "#         json.dump(processed_articles, outfile, indent=2)\n",
    "    \n",
    "#     print(f\"Processed data saved to {output_file_path}\\n\")\n",
    "    \n",
    "#     # Display the first 5 processed articles as an example\n",
    "#     for article in processed_articles[:5]:\n",
    "#         print(json.dumps(article, indent=2))\n",
    "#         print(\"-\" * 80)\n",
    "\n",
    "# if __name__ == '__main__':\n",
    "#     main()"
   ]
  },
  {
   "cell_type": "markdown",
   "metadata": {},
   "source": [
    "### Processed dataset"
   ]
  },
  {
   "cell_type": "code",
   "execution_count": 11,
   "metadata": {},
   "outputs": [
    {
     "name": "stderr",
     "output_type": "stream",
     "text": [
      "Processing articles: 100%|██████████| 162/162 [00:00<00:00, 267.33it/s]\n"
     ]
    }
   ],
   "source": [
    "import json\n",
    "import logging\n",
    "from pathlib import Path\n",
    "import shutil\n",
    "import re\n",
    "from concurrent.futures import ThreadPoolExecutor\n",
    "from tqdm import tqdm\n",
    "\n",
    "# Configure logging\n",
    "logging.basicConfig(\n",
    "    level=logging.INFO,\n",
    "    format='%(asctime)s - %(levelname)s - %(message)s',\n",
    "    handlers=[logging.FileHandler('dataset_generation.log'), logging.StreamHandler()]\n",
    ")\n",
    "\n",
    "class DatasetGenerator:\n",
    "    MODALITY_MAP = {\n",
    "        r'\\b(MRI|MR|fMRI|DWI|MRA)\\b': 'Magnetic Resonance Imaging',\n",
    "        r'\\b(CT|HRCT|CBCT)\\b': 'Computed Tomography',\n",
    "        r'\\b(PET|SPECT)\\b': 'Nuclear Medicine',\n",
    "        r'\\b(X-?ray|Radiography)\\b': 'X-ray',\n",
    "        r'\\bUltrasound|US|Sonography\\b': 'Ultrasound',\n",
    "        r'\\bAngiography|DSA\\b': 'Angiography',\n",
    "        r'\\bHistology|IHC\\b': 'Histopathology',\n",
    "        r'\\bEndoscopy\\b': 'Endoscopy',\n",
    "        r'\\b(ECG|EKG)\\b': 'Electrocardiography'\n",
    "    }\n",
    "\n",
    "    BODY_PART_MAP = {\n",
    "        r'\\bAbdomen|Abdominal\\b': 'Abdomen',\n",
    "        r'\\bBrain|Cerebral|CNS\\b': 'Brain',\n",
    "        r'\\bChest|Thoracic\\b': 'Chest',\n",
    "        r'\\bHeart|Cardiac\\b': 'Heart',\n",
    "        r'\\bSpine|Vertebral\\b': 'Spine',\n",
    "        r'\\bPelvis|Pelvic\\b': 'Pelvis',\n",
    "        r'\\bLiver|Hepatic\\b': 'Liver',\n",
    "        r'\\bLung|Pulmonary\\b': 'Lung'\n",
    "    }\n",
    "\n",
    "    def __init__(self):\n",
    "        self.input_jsonl = Path(\"_results/data/pubmed_parsed_data.jsonl\")\n",
    "        self.output_jsonl = Path(\"final_data/final_dataset.jsonl\")\n",
    "        self.images_dir = Path(\"final_data/images\")\n",
    "        self.counter = 1\n",
    "        \n",
    "        # Create directories if they don't exist\n",
    "        self.images_dir.mkdir(parents=True, exist_ok=True)\n",
    "\n",
    "    @staticmethod\n",
    "    def extract_metadata(text, pattern_map):\n",
    "        \"\"\"Extract metadata using prioritized regex patterns\"\"\"\n",
    "        for pattern, value in pattern_map.items():\n",
    "            if re.search(pattern, text, re.IGNORECASE):\n",
    "                return value\n",
    "        return 'Unknown'\n",
    "\n",
    "    def process_article(self, article):\n",
    "        \"\"\"Process a single article and its figures\"\"\"\n",
    "        try:\n",
    "            pmc = article['pmc']\n",
    "            entries = []\n",
    "            \n",
    "            for idx, fig in enumerate(article['figures']):\n",
    "                src_img = Path(fig['graphic_ref'])\n",
    "                if not src_img.exists():\n",
    "                    logging.warning(f\"Missing image: {src_img}\")\n",
    "                    continue\n",
    "\n",
    "                dest_img = self.images_dir / f\"pmc_{pmc}_{idx}{src_img.suffix}\"\n",
    "                if not dest_img.exists():\n",
    "                    shutil.copy(str(src_img), str(dest_img))\n",
    "\n",
    "                entry = {\n",
    "                    \"image\": [f\"images/{dest_img.name}\"],\n",
    "                    \"sequence\": [f\"images/{dest_img.name}\"],\n",
    "                    \"conversations\": [\n",
    "                        {\"from\": \"human\", \"value\": \"Analyze the image in a comprehensive and detailed manner.\"},\n",
    "                        {\"from\": \"gpt\", \"value\": fig['fig_caption']}\n",
    "                    ],\n",
    "                    \"id\": f\"Alignment_VQA_{self.counter}\",\n",
    "                    \"modality\": self.extract_metadata(fig['fig_caption'], self.MODALITY_MAP),\n",
    "                    \"body_part\": self.extract_metadata(fig['fig_caption'], self.BODY_PART_MAP),\n",
    "                    \"pmcid\": pmc,\n",
    "                    \"pmid\": article.get('pmid', ''),\n",
    "                    \"original_fig_id\": fig.get('fig_id', '')\n",
    "                }\n",
    "                \n",
    "                entries.append(entry)\n",
    "                self.counter += 1\n",
    "            \n",
    "            return entries\n",
    "        except Exception as e:\n",
    "            logging.error(f\"Error processing article {article.get('pmc', 'unknown')}: {str(e)}\")\n",
    "            return []\n",
    "\n",
    "    def generate_dataset(self):\n",
    "        \"\"\"Main method to generate the dataset\"\"\"\n",
    "        with open(self.input_jsonl, 'r', encoding='utf-8') as infile, \\\n",
    "             open(self.output_jsonl, 'w', encoding='utf-8') as outfile:\n",
    "\n",
    "            # Get total articles for progress bar\n",
    "            total_articles = sum(1 for _ in open(self.input_jsonl, 'r', encoding='utf-8'))\n",
    "            \n",
    "            with ThreadPoolExecutor() as executor:\n",
    "                future_to_line = {\n",
    "                    executor.submit(self.process_article, json.loads(line.strip())): line\n",
    "                    for line in infile\n",
    "                }\n",
    "\n",
    "                with tqdm(total=total_articles, desc=\"Processing articles\") as pbar:\n",
    "                    for future in future_to_line:\n",
    "                        entries = future.result()\n",
    "                        for entry in entries:\n",
    "                            json.dump(entry, outfile, ensure_ascii=False)\n",
    "                            outfile.write('\\n')\n",
    "                        pbar.update(1)\n",
    "\n",
    "if __name__ == \"__main__\":\n",
    "    generator = DatasetGenerator()\n",
    "    generator.generate_dataset()"
   ]
  },
  {
   "cell_type": "markdown",
   "metadata": {},
   "source": [
    "### PMC-Fine-Grained Dataset "
   ]
  },
  {
   "cell_type": "code",
   "execution_count": 19,
   "metadata": {},
   "outputs": [
    {
     "ename": "ModuleNotFoundError",
     "evalue": "No module named 'torch'",
     "output_type": "error",
     "traceback": [
      "\u001b[31m---------------------------------------------------------------------------\u001b[39m",
      "\u001b[31mModuleNotFoundError\u001b[39m                       Traceback (most recent call last)",
      "\u001b[36mCell\u001b[39m\u001b[36m \u001b[39m\u001b[32mIn[19]\u001b[39m\u001b[32m, line 2\u001b[39m\n\u001b[32m      1\u001b[39m \u001b[38;5;28;01mimport\u001b[39;00m\u001b[38;5;250m \u001b[39m\u001b[34;01mjson\u001b[39;00m\n\u001b[32m----> \u001b[39m\u001b[32m2\u001b[39m \u001b[38;5;28;01mimport\u001b[39;00m\u001b[38;5;250m \u001b[39m\u001b[34;01mtorch\u001b[39;00m\n\u001b[32m      3\u001b[39m \u001b[38;5;28;01mfrom\u001b[39;00m\u001b[38;5;250m \u001b[39m\u001b[34;01mPIL\u001b[39;00m\u001b[38;5;250m \u001b[39m\u001b[38;5;28;01mimport\u001b[39;00m Image\n\u001b[32m      4\u001b[39m \u001b[38;5;28;01mfrom\u001b[39;00m\u001b[38;5;250m \u001b[39m\u001b[34;01mtransformers\u001b[39;00m\u001b[38;5;250m \u001b[39m\u001b[38;5;28;01mimport\u001b[39;00m AutoProcessor, AutoModel\n",
      "\u001b[31mModuleNotFoundError\u001b[39m: No module named 'torch'"
     ]
    }
   ],
   "source": [
    "import json\n",
    "import torch\n",
    "from PIL import Image\n",
    "from transformers import AutoProcessor, AutoModel\n",
    "from torchvision import transforms\n",
    "import matplotlib.pyplot as plt\n",
    "from sklearn.neighbors import NearestNeighbors\n",
    "\n",
    "# 1. Load dataset\n",
    "def load_dataset(file_path):\n",
    "    data = []\n",
    "    with open(file_path, 'r') as f:\n",
    "        for line in f:\n",
    "            data.append(json.loads(line))\n",
    "    return data\n",
    "\n",
    "# 2. Image preprocessing with enhanced size\n",
    "def create_image_pipeline(target_size=512):\n",
    "    return transforms.Compose([\n",
    "        transforms.Resize((target_size, target_size)),\n",
    "        transforms.ToTensor(),\n",
    "        transforms.Normalize(mean=[0.485, 0.456, 0.406], \n",
    "                            std=[0.229, 0.224, 0.225])\n",
    "    ])\n",
    "\n",
    "# 3. Text processing with extended length\n",
    "def process_text(caption, processor, max_length=128):\n",
    "    return processor(text=caption, \n",
    "                    padding='max_length',\n",
    "                    truncation=True,\n",
    "                    max_length=max_length,\n",
    "                    return_tensors=\"pt\")\n",
    "\n",
    "# 4. BiomedCLIP embedding model\n",
    "class BiomedCLIPEmbedder:\n",
    "    def __init__(self):\n",
    "        self.model = AutoModel.from_pretrained(\n",
    "            \"microsoft/BiomedCLIP-PubMedBERT-base-uncased-abstract-fulltext\"\n",
    "        )\n",
    "        self.processor = AutoProcessor.from_pretrained(\n",
    "            \"microsoft/BiomedCLIP-PubMedBERT-base-uncased-abstract-fulltext\"\n",
    "        )\n",
    "        \n",
    "    def get_image_embedding(self, image):\n",
    "        inputs = self.processor(images=image, return_tensors=\"pt\")\n",
    "        with torch.no_grad():\n",
    "            return self.model.get_image_features(**inputs)\n",
    "        \n",
    "    def get_text_embedding(self, text):\n",
    "        inputs = process_text(text, self.processor)\n",
    "        with torch.no_grad():\n",
    "            return self.model.get_text_features(**inputs)\n",
    "\n",
    "# 5. Taxonomy classifier\n",
    "class TaxonomyClassifier:\n",
    "    def __init__(self, taxonomy_keywords):\n",
    "        self.embedder = BiomedCLIPEmbedder()\n",
    "        self.keywords = taxonomy_keywords\n",
    "        \n",
    "        # Precompute keyword embeddings\n",
    "        text_embeddings = [self.embedder.get_text_embedding(k) for k in self.keywords]\n",
    "        self.text_features = torch.cat(text_embeddings).numpy()\n",
    "        \n",
    "        # Build nearest neighbors index\n",
    "        self.nn = NearestNeighbors(n_neighbors=1, metric='cosine')\n",
    "        self.nn.fit(self.text_features)\n",
    "        \n",
    "    def classify_image(self, image):\n",
    "        image_features = self.embedder.get_image_embedding(image).numpy()\n",
    "        _, indices = self.nn.kneighbors(image_features)\n",
    "        return self.keywords[indices[0][0]]\n",
    "\n",
    "# 6. Analysis pipeline\n",
    "def analyze_dataset(dataset_path, taxonomy):\n",
    "    # Initialize components\n",
    "    data = load_dataset(dataset_path)\n",
    "    image_pipeline = create_image_pipeline(512)\n",
    "    classifier = TaxonomyClassifier(taxonomy)\n",
    "    \n",
    "    # Process dataset\n",
    "    results = {}\n",
    "    for entry in data:\n",
    "        try:\n",
    "            # Load and process image\n",
    "            img = Image.open(entry['image'][0])\n",
    "            img_tensor = image_pipeline(img).unsqueeze(0)\n",
    "            \n",
    "            # Classify image\n",
    "            image_type = classifier.classify_image(img_tensor)\n",
    "            results[image_type] = results.get(image_type, 0) + 1\n",
    "            \n",
    "        except Exception as e:\n",
    "            print(f\"Error processing {entry['id']}: {str(e)}\")\n",
    "    \n",
    "    # Generate visualization\n",
    "    plot_results(results)\n",
    "\n",
    "def plot_results(results):\n",
    "    sorted_items = sorted(results.items(), key=lambda x: x[1], reverse=True)[:30]\n",
    "    labels, values = zip(*sorted_items)\n",
    "    \n",
    "    plt.figure(figsize=(12, 8))\n",
    "    plt.barh(range(len(labels)), values, align='center')\n",
    "    plt.yticks(range(len(labels)), labels)\n",
    "    plt.gca().invert_yaxis()\n",
    "    plt.xlabel('Frequency')\n",
    "    plt.title('Top 30 Image Types in PMC-Fine-Grained')\n",
    "    plt.tight_layout()\n",
    "    plt.show()\n",
    "\n",
    "# Example usage\n",
    "if __name__ == \"__main__\":\n",
    "    taxonomy = [\n",
    "        \"statistical figures\", \"graphs\", \"charts\", \"tables\",\n",
    "        \"X-ray\", \"magnetic resonance\", \"CT scan\", \n",
    "        \"light microscopy\", \"electron microscopy\",\n",
    "        \"histopathology\", \"immunohistochemistry\",\n",
    "        \"flow cytometry\", \"gel electrophoresis\",\n",
    "        \"ultrasound\", \"endoscopy\", \"ECG\",\n",
    "        \"genetic sequencing\", \"protein structure\",\n",
    "        \"molecular model\", \"surgical illustration\"\n",
    "    ]\n",
    "    \n",
    "    analyze_dataset(\"final_data\\final_dataset.jsonl\", taxonomy)"
   ]
  }
 ],
 "metadata": {
  "kernelspec": {
   "display_name": ".venv",
   "language": "python",
   "name": "python3"
  },
  "language_info": {
   "codemirror_mode": {
    "name": "ipython",
    "version": 3
   },
   "file_extension": ".py",
   "mimetype": "text/x-python",
   "name": "python",
   "nbconvert_exporter": "python",
   "pygments_lexer": "ipython3",
   "version": "3.12.8"
  }
 },
 "nbformat": 4,
 "nbformat_minor": 2
}
